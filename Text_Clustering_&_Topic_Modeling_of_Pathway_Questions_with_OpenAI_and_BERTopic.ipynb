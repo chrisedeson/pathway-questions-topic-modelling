{
  "cells": [
    {
      "cell_type": "markdown",
      "metadata": {
        "id": "8e28034c"
      },
      "source": [
        "# Text Clustering & Topic Modeling of Pathway Student Questions\n",
        "\n",
        "This notebook demonstrates how to cluster and explore **student questions** using modern NLP techniques, including embeddings, dimensionality reduction, clustering, and topic modeling.\n",
        "\n",
        "---"
      ]
    },
    {
      "cell_type": "markdown",
      "metadata": {
        "id": "LB89rBT9BVjC"
      },
      "source": [
        "---"
      ]
    },
    {
      "cell_type": "markdown",
      "metadata": {
        "id": "pLYgIAlhAaTT"
      },
      "source": [
        "This notebook demonstrates clustering and topic modeling for **student questions** using:\n",
        "- Embeddings\n",
        "- Dimensionality reduction\n",
        "- Clustering\n",
        "- Topic modeling\n",
        "\n",
        "The workflow is designed for educational data analysis and visualization."
      ]
    },
    {
      "cell_type": "markdown",
      "metadata": {
        "id": "1k_cF9DkBRnC"
      },
      "source": [
        "---"
      ]
    },
    {
      "cell_type": "markdown",
      "metadata": {
        "id": "0UgLsGOyAx25"
      },
      "source": [
        "> **Note:** Unlike the original notebook (which used arXiv paper titles and abstracts), this workflow uses a custom dataset of student questions stored in a `.txt` file."
      ]
    },
    {
      "cell_type": "markdown",
      "metadata": {
        "id": "HU9TWwjHXRFR"
      },
      "source": [
        "### Workflow Steps\n",
        "\n",
        "1. Convert questions into embedding vectors\n",
        "2. Reduce embeddings to 5 dimensions\n",
        "3. Cluster the reduced embeddings\n",
        "4. Generate keyword-based topics\n",
        "5. Reduce embeddings to 2 dimensions for visualization\n",
        "6. Visualize questions and topics\n",
        "7. Use OpenAI to generate short topic labels"
      ]
    },
    {
      "cell_type": "markdown",
      "metadata": {
        "id": "rkk6kCSFBdqq"
      },
      "source": [
        "## Setup & Install Dependencies"
      ]
    },
    {
      "cell_type": "code",
      "execution_count": 1,
      "metadata": {
        "colab": {
          "base_uri": "https://localhost:8080/"
        },
        "id": "NsAz0pZXAy_P",
        "outputId": "675ac995-ee18-4e36-9efb-3fbf6c4abd0f"
      },
      "outputs": [
        {
          "name": "stdout",
          "output_type": "stream",
          "text": [
            "✅ Dependencies should be installed via requirements.txt\n",
            "If you haven't installed them yet, run:\n",
            "  pip install -r requirements.txt\n",
            "  or\n",
            "  make install\n"
          ]
        }
      ],
      "source": [
        "# Dependencies are installed via requirements.txt\n",
        "# Run: pip install -r requirements.txt\n",
        "# Or use: make install\n",
        "\n",
        "print(\"✅ Dependencies should be installed via requirements.txt\")\n",
        "print(\"If you haven't installed them yet, run:\")\n",
        "print(\"  pip install -r requirements.txt\")\n",
        "print(\"  or\")  \n",
        "print(\"  make install\")"
      ]
    },
    {
      "cell_type": "markdown",
      "metadata": {
        "id": "PmsOC9_tCAip"
      },
      "source": [
        "## Load Dataset\n",
        "\n",
        "Use the file upload method to flexibly and reliably select the latest dataset of student questions from your computer. This avoids hardcoding file paths or filenames."
      ]
    },
    {
      "cell_type": "code",
      "execution_count": 2,
      "metadata": {
        "colab": {
          "base_uri": "https://localhost:8080/",
          "height": 126
        },
        "id": "rKPJrZSPBwai",
        "outputId": "fd537361-7cc1-4ca0-c710-d406815fd90a"
      },
      "outputs": [
        {
          "name": "stdout",
          "output_type": "stream",
          "text": [
            "📁 Select your questions dataset file:\n",
            "Expected format: extracted_user_inputs_<date>.txt\n"
          ]
        },
        {
          "data": {
            "application/vnd.jupyter.widget-view+json": {
              "model_id": "e76da47787d74130815d4dac4a61e469",
              "version_major": 2,
              "version_minor": 0
            },
            "text/plain": [
              "FileChooser(path='/home/chrisflex/byu-pathway/pathway-questions-topic-modelling/data', filename='', title='Sel…"
            ]
          },
          "execution_count": 2,
          "metadata": {},
          "output_type": "execute_result"
        }
      ],
      "source": [
        "import os\n",
        "from pathlib import Path\n",
        "from ipyfilechooser import FileChooser\n",
        "\n",
        "# Create file chooser widget for selecting the dataset\n",
        "print(\"📁 Select your questions dataset file:\")\n",
        "print(\"Expected format: extracted_user_inputs_<date>.txt\")\n",
        "\n",
        "# Set up file chooser to look in data directory by default\n",
        "data_dir = Path(\"data\")\n",
        "if not data_dir.exists():\n",
        "    data_dir.mkdir(exist_ok=True)\n",
        "\n",
        "fc = FileChooser(\n",
        "    path=str(data_dir),\n",
        "    filename='',\n",
        "    title='Select Questions Dataset File',\n",
        "    select_desc='Select',\n",
        "    change_desc='Change'\n",
        ")\n",
        "\n",
        "# Display the file chooser\n",
        "fc"
      ]
    },
    {
      "cell_type": "code",
      "execution_count": 4,
      "metadata": {},
      "outputs": [
        {
          "name": "stdout",
          "output_type": "stream",
          "text": [
            "📄 Using sample data file: data/sample_questions.txt\n",
            "✅ Loaded 50 questions\n",
            "Sample questions:\n",
            "1. How do I register for English Connect classes?\n",
            "2. What are the requirements to join BYU Pathway Connect?\n",
            "3. How can I apply for financial aid for my courses?\n",
            "4. When does the next semester start for PathwayConnect?\n",
            "5. What technical requirements do I need for online classes?\n",
            "✅ Good dataset size for analysis\n"
          ]
        }
      ],
      "source": [
        "# Load questions from the selected file\n",
        "# For testing, we'll use the sample file if no file is selected\n",
        "import os\n",
        "from pathlib import Path\n",
        "\n",
        "if 'fc' in locals() and fc.selected:\n",
        "    filename = fc.selected\n",
        "    print(f\"📄 Loading file: {filename}\")\n",
        "else:\n",
        "    # Use sample data for testing\n",
        "    sample_file = Path(\"data/sample_questions.txt\")\n",
        "    if sample_file.exists():\n",
        "        filename = str(sample_file)\n",
        "        print(f\"📄 Using sample data file: {filename}\")\n",
        "    else:\n",
        "        print(\"❌ No file selected and no sample file found.\")\n",
        "        print(\"Please run the cell above and select a file, or create a sample file.\")\n",
        "        questions = []\n",
        "\n",
        "if 'filename' in locals() and filename:\n",
        "    try:\n",
        "        # Load questions from the selected file\n",
        "        with open(filename, \"r\", encoding=\"utf-8\") as f:\n",
        "            questions = [line.strip() for line in f if line.strip()]\n",
        "        \n",
        "        print(f\"✅ Loaded {len(questions)} questions\")\n",
        "        print(\"Sample questions:\")\n",
        "        for i, q in enumerate(questions[:5], 1):\n",
        "            print(f\"{i}. {q}\")\n",
        "            \n",
        "        if len(questions) == 0:\n",
        "            print(\"⚠️ Warning: No questions found in the file!\")\n",
        "        elif len(questions) < 10:\n",
        "            print(\"⚠️ Warning: Very few questions found. Consider adding more data for better clustering.\")\n",
        "        else:\n",
        "            print(f\"✅ Good dataset size for analysis\")\n",
        "            \n",
        "    except Exception as e:\n",
        "        print(f\"❌ Error loading file: {e}\")\n",
        "        questions = []\n",
        "else:\n",
        "    questions = []"
      ]
    },
    {
      "cell_type": "markdown",
      "metadata": {
        "id": "v-7lZd1LFX1a"
      },
      "source": [
        "## Create Embeddings\n",
        "We will use a **sentence transformer** to embed each question into a high-dimensional vector"
      ]
    },
    {
      "cell_type": "code",
      "execution_count": 5,
      "metadata": {
        "colab": {
          "base_uri": "https://localhost:8080/",
          "height": 66,
          "referenced_widgets": [
            "ea51691d93a94974804f0918e43cc785",
            "bc38cc68f3014a7992456f7eb58efe51",
            "f8a9de3ea3604b92868d17fe0604989e",
            "3eae41f8878b47939c2fe66e839713d6",
            "2232df9efa904e9aa4413e8f85b91d0f",
            "2dc425285fff422aaec0b4d5c795cf0e",
            "96e3ba81800d40d8b27602e1ee81a918",
            "41377e74e1d24c519a85c9d666ccd953",
            "144bb8f2dc67437a8fefec7be8e0cfa2",
            "9ffe61aadc694f26918b3a8d508c697e",
            "3c5d4f934dc743268850807bcf79a67c"
          ]
        },
        "id": "cQsl6CnuFksu",
        "outputId": "5d7dea71-1264-497b-b3f9-3b161613a104"
      },
      "outputs": [
        {
          "name": "stdout",
          "output_type": "stream",
          "text": [
            "✅ OpenAI API key loaded successfully\n",
            "🔄 Generating embeddings for 50 questions using text-embedding-3-large\n",
            "Processing in batches of 1000\n"
          ]
        },
        {
          "data": {
            "application/vnd.jupyter.widget-view+json": {
              "model_id": "fb48f4253ac54aa28f868fe6aacf5908",
              "version_major": 2,
              "version_minor": 0
            },
            "text/plain": [
              "  0%|          | 0/1 [00:00<?, ?it/s]"
            ]
          },
          "metadata": {},
          "output_type": "display_data"
        },
        {
          "name": "stdout",
          "output_type": "stream",
          "text": [
            "✅ Generated 50 embeddings with shape (50, 3072)\n",
            "📊 Embedding dimensions: (50, 3072)\n",
            "📊 Memory usage: 1.17 MB\n"
          ]
        }
      ],
      "source": [
        "from openai import OpenAI\n",
        "import numpy as np\n",
        "import os\n",
        "from dotenv import load_dotenv\n",
        "from tqdm.auto import tqdm\n",
        "\n",
        "# Load environment variables from .env file\n",
        "load_dotenv()\n",
        "\n",
        "# Get OpenAI API key from environment\n",
        "api_key = os.getenv('OPENAI_API_KEY')\n",
        "if not api_key:\n",
        "    raise ValueError(\n",
        "        \"❌ OPENAI_API_KEY not found in environment variables.\\n\"\n",
        "        \"Please create a .env file with your OpenAI API key:\\n\"\n",
        "        \"OPENAI_API_KEY=your_key_here\\n\"\n",
        "        \"Or run: make create-env\"\n",
        "    )\n",
        "\n",
        "print(\"✅ OpenAI API key loaded successfully\")\n",
        "client = OpenAI(api_key=api_key)\n",
        "\n",
        "# Function to generate embeddings in batches\n",
        "def generate_embeddings_in_batches(client, questions, model=\"text-embedding-3-large\", batch_size=1000):\n",
        "    \"\"\"\n",
        "    Generate embeddings for questions in batches to handle API rate limits.\n",
        "    \n",
        "    Args:\n",
        "        client: OpenAI client instance\n",
        "        questions: List of question strings\n",
        "        model: Embedding model to use\n",
        "        batch_size: Number of questions to process per batch\n",
        "    \n",
        "    Returns:\n",
        "        numpy array of embeddings\n",
        "    \"\"\"\n",
        "    if not questions:\n",
        "        print(\"❌ No questions provided\")\n",
        "        return np.array([])\n",
        "        \n",
        "    print(f\"🔄 Generating embeddings for {len(questions)} questions using {model}\")\n",
        "    print(f\"Processing in batches of {batch_size}\")\n",
        "    \n",
        "    embeddings = []\n",
        "    failed_batches = []\n",
        "    \n",
        "    for i in tqdm(range(0, len(questions), batch_size)):\n",
        "        batch = questions[i : i + batch_size]\n",
        "        batch_num = i // batch_size + 1\n",
        "        \n",
        "        try:\n",
        "            response = client.embeddings.create(\n",
        "                model=model,\n",
        "                input=batch\n",
        "            )\n",
        "            batch_embeddings = [d.embedding for d in response.data]\n",
        "            embeddings.extend(batch_embeddings)\n",
        "            \n",
        "            # Progress update\n",
        "            if batch_num % 5 == 0:\n",
        "                print(f\"✅ Processed batch {batch_num}/{(len(questions)-1)//batch_size + 1}\")\n",
        "                \n",
        "        except Exception as e:\n",
        "            print(f\"❌ Error processing batch {batch_num}: {e}\")\n",
        "            failed_batches.append(batch_num)\n",
        "            # Add empty embeddings for failed batch to maintain alignment\n",
        "            # In production, you might want to retry or handle this differently\n",
        "            continue\n",
        "    \n",
        "    if failed_batches:\n",
        "        print(f\"⚠️ Failed to process {len(failed_batches)} batches: {failed_batches}\")\n",
        "    \n",
        "    embeddings_array = np.array(embeddings)\n",
        "    print(f\"✅ Generated {len(embeddings_array)} embeddings with shape {embeddings_array.shape}\")\n",
        "    \n",
        "    return embeddings_array\n",
        "\n",
        "# Check if we have questions to process\n",
        "if 'questions' not in locals() or len(questions) == 0:\n",
        "    print(\"❌ No questions found. Please run the file selection cells above first.\")\n",
        "    embeddings = np.array([])\n",
        "else:\n",
        "    # Generate embeddings with OpenAI\n",
        "    embedding_model = os.getenv('OPENAI_EMBEDDING_MODEL', 'text-embedding-3-large')\n",
        "    embeddings = generate_embeddings_in_batches(client, questions, model=embedding_model)\n",
        "\n",
        "# Display embedding info\n",
        "if len(embeddings) > 0:\n",
        "    print(f\"📊 Embedding dimensions: {embeddings.shape}\")\n",
        "    print(f\"📊 Memory usage: {embeddings.nbytes / 1024 / 1024:.2f} MB\")\n",
        "else:\n",
        "    print(\"❌ No embeddings generated\")"
      ]
    },
    {
      "cell_type": "markdown",
      "metadata": {
        "id": "Bz2uHQrJJoBC"
      },
      "source": [
        "## Reduce embeddings to 5 dimensions (for clustering)"
      ]
    },
    {
      "cell_type": "code",
      "execution_count": 6,
      "metadata": {
        "colab": {
          "base_uri": "https://localhost:8080/"
        },
        "id": "spago-9OJuiZ",
        "outputId": "aaec4bdb-8143-4a8d-9e49-b2490ac96c43"
      },
      "outputs": [
        {
          "name": "stderr",
          "output_type": "stream",
          "text": [
            "/home/chrisflex/byu-pathway/pathway-questions-topic-modelling/.venv/lib/python3.12/site-packages/umap/umap_.py:1952: UserWarning: n_jobs value 1 overridden to 1 by setting random_state. Use no seed for parallelism.\n",
            "  warn(\n"
          ]
        }
      ],
      "source": [
        "from umap import UMAP\n",
        "\n",
        "# Reduce from 3072 → 5 dims\n",
        "umap_model = UMAP(\n",
        "    n_components=5,\n",
        "    min_dist=0.0,\n",
        "    metric='cosine',\n",
        "    random_state=42\n",
        ")\n",
        "reduced_embeddings = umap_model.fit_transform(embeddings)"
      ]
    },
    {
      "cell_type": "markdown",
      "metadata": {
        "id": "nAHLR6GoKcz7"
      },
      "source": [
        "## Cluster the reduced embeddings"
      ]
    },
    {
      "cell_type": "code",
      "execution_count": 7,
      "metadata": {
        "colab": {
          "base_uri": "https://localhost:8080/"
        },
        "id": "NuFM9aYZKhCs",
        "outputId": "1e934a42-af00-4d07-f77b-a9e1ce0370f2"
      },
      "outputs": [
        {
          "name": "stdout",
          "output_type": "stream",
          "text": [
            "🔄 Clustering the reduced embeddings...\n",
            "Using min_cluster_size=5 (reduced from 50 based on feedback)\n",
            "\n",
            "📊 Clustering Results:\n",
            "   Total questions: 50\n",
            "   Number of clusters: 3\n",
            "   Questions in noise (no cluster): 13 (26.0%)\n",
            "   Questions in clusters: 37 (74.0%)\n",
            "\n",
            "📈 Cluster sizes:\n",
            "   Cluster 0: 17 questions\n",
            "   Cluster 1: 10 questions\n",
            "   Cluster 2: 10 questions\n",
            "\n",
            "⚠️  Few clusters found (3)\n",
            "   Consider reducing min_cluster_size or adjusting other parameters\n"
          ]
        },
        {
          "name": "stderr",
          "output_type": "stream",
          "text": [
            "/home/chrisflex/byu-pathway/pathway-questions-topic-modelling/.venv/lib/python3.12/site-packages/sklearn/utils/deprecation.py:132: FutureWarning: 'force_all_finite' was renamed to 'ensure_all_finite' in 1.6 and will be removed in 1.8.\n",
            "  warnings.warn(\n",
            "/home/chrisflex/byu-pathway/pathway-questions-topic-modelling/.venv/lib/python3.12/site-packages/sklearn/utils/deprecation.py:132: FutureWarning: 'force_all_finite' was renamed to 'ensure_all_finite' in 1.6 and will be removed in 1.8.\n",
            "  warnings.warn(\n"
          ]
        }
      ],
      "source": [
        "from hdbscan import HDBSCAN\n",
        "\n",
        "# Check if we have reduced embeddings\n",
        "if 'reduced_embeddings' not in locals():\n",
        "    print(\"❌ Reduced embeddings not found. Please run the UMAP reduction cell above first.\")\n",
        "else:\n",
        "    print(\"🔄 Clustering the reduced embeddings...\")\n",
        "    \n",
        "    # Cluster with HDBSCAN\n",
        "    # Using smaller min_cluster_size as recommended by Dallan (5-10 instead of 50)\n",
        "    min_cluster_size = 5  # Adjusted from 50 to 5 based on meeting feedback\n",
        "    \n",
        "    print(f\"Using min_cluster_size={min_cluster_size} (reduced from 50 based on feedback)\")\n",
        "    \n",
        "    hdbscan_model = HDBSCAN(\n",
        "        min_cluster_size=min_cluster_size,\n",
        "        metric=\"euclidean\",\n",
        "        cluster_selection_method=\"eom\",\n",
        "        prediction_data=True  # Allows for predicting cluster membership of new points\n",
        "    )\n",
        "    \n",
        "    clusters = hdbscan_model.fit_predict(reduced_embeddings)\n",
        "    \n",
        "    # Analyze clustering results\n",
        "    unique_clusters, counts = np.unique(clusters, return_counts=True)\n",
        "    n_clusters = len(unique_clusters) - (1 if -1 in unique_clusters else 0)  # Exclude noise cluster (-1)\n",
        "    n_noise = counts[unique_clusters == -1][0] if -1 in unique_clusters else 0\n",
        "    \n",
        "    print(f\"\\n📊 Clustering Results:\")\n",
        "    print(f\"   Total questions: {len(clusters)}\")\n",
        "    print(f\"   Number of clusters: {n_clusters}\")\n",
        "    print(f\"   Questions in noise (no cluster): {n_noise} ({n_noise/len(clusters)*100:.1f}%)\")\n",
        "    print(f\"   Questions in clusters: {len(clusters) - n_noise} ({(len(clusters) - n_noise)/len(clusters)*100:.1f}%)\")\n",
        "    \n",
        "    print(f\"\\n📈 Cluster sizes:\")\n",
        "    cluster_info = []\n",
        "    for cluster_id, count in zip(unique_clusters, counts):\n",
        "        if cluster_id != -1:  # Skip noise cluster\n",
        "            cluster_info.append((cluster_id, count))\n",
        "            print(f\"   Cluster {cluster_id}: {count} questions\")\n",
        "    \n",
        "    # Sort by size\n",
        "    cluster_info.sort(key=lambda x: x[1], reverse=True)\n",
        "    \n",
        "    if n_noise > len(clusters) * 0.5:\n",
        "        print(f\"\\n⚠️  High noise ratio ({n_noise/len(clusters)*100:.1f}%)\")\n",
        "        print(\"   Consider reducing min_cluster_size further or adjusting other parameters\")\n",
        "    elif n_clusters < 5:\n",
        "        print(f\"\\n⚠️  Few clusters found ({n_clusters})\")\n",
        "        print(\"   Consider reducing min_cluster_size or adjusting other parameters\")\n",
        "    else:\n",
        "        print(f\"\\n✅ Good clustering results: {n_clusters} clusters with reasonable noise level\")\n",
        "        \n",
        "    # Store results for later use\n",
        "    clustering_results = {\n",
        "        'clusters': clusters,\n",
        "        'n_clusters': n_clusters,\n",
        "        'n_noise': n_noise,\n",
        "        'cluster_info': cluster_info\n",
        "    }"
      ]
    },
    {
      "cell_type": "markdown",
      "metadata": {
        "id": "2M15UE-yO6bK"
      },
      "source": [
        "## Reduce to 2D for visualization"
      ]
    },
    {
      "cell_type": "code",
      "execution_count": 8,
      "metadata": {
        "colab": {
          "base_uri": "https://localhost:8080/"
        },
        "id": "VCYd7YhRO98x",
        "outputId": "77f291be-56f9-4150-c92d-e233537466af"
      },
      "outputs": [
        {
          "name": "stderr",
          "output_type": "stream",
          "text": [
            "/home/chrisflex/byu-pathway/pathway-questions-topic-modelling/.venv/lib/python3.12/site-packages/umap/umap_.py:1952: UserWarning: n_jobs value 1 overridden to 1 by setting random_state. Use no seed for parallelism.\n",
            "  warn(\n"
          ]
        }
      ],
      "source": [
        "import pandas as pd\n",
        "\n",
        "# Reduce again for visualization (3072 → 2)\n",
        "reduced_2d = UMAP(\n",
        "    n_components=2,\n",
        "    min_dist=0.0,\n",
        "    metric='cosine',\n",
        "    random_state=42\n",
        ").fit_transform(embeddings)\n",
        "\n",
        "# Create dataframe\n",
        "df = pd.DataFrame(reduced_2d, columns=[\"x\", \"y\"])\n",
        "df[\"questions\"] = questions\n",
        "df[\"cluster\"] = clusters"
      ]
    },
    {
      "cell_type": "markdown",
      "metadata": {
        "id": "Vj8YHhWTQNlb"
      },
      "source": [
        "## Visualize clusters"
      ]
    },
    {
      "cell_type": "code",
      "execution_count": 9,
      "metadata": {
        "colab": {
          "base_uri": "https://localhost:8080/",
          "height": 675
        },
        "id": "bVWn50S4QQkf",
        "outputId": "8793b03d-ad8c-4e36-f71a-4379f1921eb3"
      },
      "outputs": [
        {
          "data": {
            "image/png": "[encoded data removed]",
            "text/plain": [
              "<Figure size 1000x800 with 1 Axes>"
            ]
          },
          "metadata": {},
          "output_type": "display_data"
        }
      ],
      "source": [
        "import matplotlib.pyplot as plt\n",
        "\n",
        "plt.figure(figsize=(10,8))\n",
        "plt.scatter(df.x, df.y, c=df.cluster, cmap=\"tab20b\", alpha=0.6, s=8)\n",
        "plt.title(\"Clusters of Student Questions\")\n",
        "plt.axis(\"off\")\n",
        "plt.show()"
      ]
    },
    {
      "cell_type": "markdown",
      "metadata": {
        "id": "V9Ge1vY6RdB5"
      },
      "source": [
        "## Fit BETTopic with your OpenAI embeddings"
      ]
    },
    {
      "cell_type": "code",
      "execution_count": 10,
      "metadata": {
        "colab": {
          "base_uri": "https://localhost:8080/",
          "height": 467
        },
        "id": "dehNLCfuQmwL",
        "outputId": "a1109047-92af-4965-b1c5-cb22af9c3f75"
      },
      "outputs": [
        {
          "name": "stderr",
          "output_type": "stream",
          "text": [
            "2025-08-26 00:49:47,938 - BERTopic - Dimensionality - Fitting the dimensionality reduction algorithm\n",
            "2025-08-26 00:49:48,077 - BERTopic - Dimensionality - Completed ✓\n",
            "2025-08-26 00:49:48,078 - BERTopic - Cluster - Start clustering the reduced embeddings\n",
            "2025-08-26 00:49:48,077 - BERTopic - Dimensionality - Completed ✓\n",
            "2025-08-26 00:49:48,078 - BERTopic - Cluster - Start clustering the reduced embeddings\n",
            "2025-08-26 00:49:48,118 - BERTopic - Cluster - Completed ✓\n",
            "2025-08-26 00:49:48,118 - BERTopic - Cluster - Completed ✓\n",
            "2025-08-26 00:49:48,151 - BERTopic - Representation - Fine-tuning topics using representation models.\n",
            "2025-08-26 00:49:48,151 - BERTopic - Representation - Fine-tuning topics using representation models.\n",
            "2025-08-26 00:49:48,205 - BERTopic - Representation - Completed ✓\n",
            "2025-08-26 00:49:48,205 - BERTopic - Representation - Completed ✓\n"
          ]
        },
        {
          "data": {
            "application/vnd.microsoft.datawrangler.viewer.v0+json": {
              "columns": [
                {
                  "name": "index",
                  "rawType": "int64",
                  "type": "integer"
                },
                {
                  "name": "Topic",
                  "rawType": "int64",
                  "type": "integer"
                },
                {
                  "name": "Count",
                  "rawType": "int64",
                  "type": "integer"
                },
                {
                  "name": "Name",
                  "rawType": "object",
                  "type": "string"
                },
                {
                  "name": "Representation",
                  "rawType": "object",
                  "type": "unknown"
                },
                {
                  "name": "Representative_Docs",
                  "rawType": "object",
                  "type": "unknown"
                }
              ],
              "ref": "a872a9bb-8e37-4a5d-89dd-4f194fe9cabb",
              "rows": [
                [
                  "0",
                  "-1",
                  "13",
                  "-1_how_pathwayconnect_are_available",
                  "['how', 'pathwayconnect', 'are', 'available', 'access', 'do', 'can', 'there', 'the', 'what']",
                  "['What career services are available to students?', 'Are there study groups available for students?', 'How do I reset my password for online access?']"
                ],
                [
                  "1",
                  "0",
                  "17",
                  "0_for_aid_financial_what",
                  "['for', 'aid', 'financial', 'what', 'students', 'how', 'are', 'the', 'my', 'can']",
                  "['What are the graduation requirements for my program?', 'What documents do I need for financial aid applications?', 'How can I apply for financial aid for my courses?']"
                ],
                [
                  "2",
                  "1",
                  "10",
                  "1_english_connect_do_how",
                  "['english', 'connect', 'do', 'how', 'know', 'register', 'for', 'classes', 'what', 'need']",
                  "['What materials do I need for English Connect classes?', 'How do I register for English Connect classes?', 'How do I register for English Connect 1?']"
                ],
                [
                  "3",
                  "2",
                  "10",
                  "2_my_the_learning_online",
                  "['my', 'the', 'learning', 'online', 'classes', 'need', 'for', 'assignment', 'computer', 'having']",
                  "['What technical requirements do I need for online classes?', \"My computer won't connect to the learning platform\", 'My internet connection is too slow for online learning']"
                ]
              ],
              "shape": {
                "columns": 5,
                "rows": 4
              }
            },
            "text/html": [
              "<div>\n",
              "<style scoped>\n",
              "    .dataframe tbody tr th:only-of-type {\n",
              "        vertical-align: middle;\n",
              "    }\n",
              "\n",
              "    .dataframe tbody tr th {\n",
              "        vertical-align: top;\n",
              "    }\n",
              "\n",
              "    .dataframe thead th {\n",
              "        text-align: right;\n",
              "    }\n",
              "</style>\n",
              "<table border=\"1\" class=\"dataframe\">\n",
              "  <thead>\n",
              "    <tr style=\"text-align: right;\">\n",
              "      <th></th>\n",
              "      <th>Topic</th>\n",
              "      <th>Count</th>\n",
              "      <th>Name</th>\n",
              "      <th>Representation</th>\n",
              "      <th>Representative_Docs</th>\n",
              "    </tr>\n",
              "  </thead>\n",
              "  <tbody>\n",
              "    <tr>\n",
              "      <th>0</th>\n",
              "      <td>-1</td>\n",
              "      <td>13</td>\n",
              "      <td>-1_how_pathwayconnect_are_available</td>\n",
              "      <td>[how, pathwayconnect, are, available, access, ...</td>\n",
              "      <td>[What career services are available to student...</td>\n",
              "    </tr>\n",
              "    <tr>\n",
              "      <th>1</th>\n",
              "      <td>0</td>\n",
              "      <td>17</td>\n",
              "      <td>0_for_aid_financial_what</td>\n",
              "      <td>[for, aid, financial, what, students, how, are...</td>\n",
              "      <td>[What are the graduation requirements for my p...</td>\n",
              "    </tr>\n",
              "    <tr>\n",
              "      <th>2</th>\n",
              "      <td>1</td>\n",
              "      <td>10</td>\n",
              "      <td>1_english_connect_do_how</td>\n",
              "      <td>[english, connect, do, how, know, register, fo...</td>\n",
              "      <td>[What materials do I need for English Connect ...</td>\n",
              "    </tr>\n",
              "    <tr>\n",
              "      <th>3</th>\n",
              "      <td>2</td>\n",
              "      <td>10</td>\n",
              "      <td>2_my_the_learning_online</td>\n",
              "      <td>[my, the, learning, online, classes, need, for...</td>\n",
              "      <td>[What technical requirements do I need for onl...</td>\n",
              "    </tr>\n",
              "  </tbody>\n",
              "</table>\n",
              "</div>"
            ],
            "text/plain": [
              "   Topic  Count                                 Name  \\\n",
              "0     -1     13  -1_how_pathwayconnect_are_available   \n",
              "1      0     17             0_for_aid_financial_what   \n",
              "2      1     10             1_english_connect_do_how   \n",
              "3      2     10             2_my_the_learning_online   \n",
              "\n",
              "                                      Representation  \\\n",
              "0  [how, pathwayconnect, are, available, access, ...   \n",
              "1  [for, aid, financial, what, students, how, are...   \n",
              "2  [english, connect, do, how, know, register, fo...   \n",
              "3  [my, the, learning, online, classes, need, for...   \n",
              "\n",
              "                                 Representative_Docs  \n",
              "0  [What career services are available to student...  \n",
              "1  [What are the graduation requirements for my p...  \n",
              "2  [What materials do I need for English Connect ...  \n",
              "3  [What technical requirements do I need for onl...  "
            ]
          },
          "execution_count": 10,
          "metadata": {},
          "output_type": "execute_result"
        }
      ],
      "source": [
        "from bertopic import BERTopic\n",
        "\n",
        "# Train our model with our previously defined models\n",
        "topic_model = BERTopic(\n",
        "    embedding_model=None, # We already have embeddings\n",
        "    umap_model=umap_model,\n",
        "    hdbscan_model=hdbscan_model,\n",
        "    verbose=True\n",
        ")\n",
        "\n",
        "topics, probs = topic_model.fit_transform(questions, embeddings)\n",
        "\n",
        "topic_model.get_topic_info().head(10)"
      ]
    },
    {
      "cell_type": "markdown",
      "metadata": {
        "id": "hJcD9H1aUWTy"
      },
      "source": [
        "## Use OpenAI to label topics"
      ]
    },
    {
      "cell_type": "code",
      "execution_count": null,
      "metadata": {
        "colab": {
          "base_uri": "https://localhost:8080/",
          "height": 380
        },
        "id": "cfiJ0uH5UV0y",
        "outputId": "1b95ccc0-2c58-47db-ca1f-7f481d8ae07a"
      },
      "outputs": [
        {
          "name": "stdout",
          "output_type": "stream",
          "text": [
            "🔄 Using OpenAI to generate better topic labels...\n",
            "Using model: gpt-4o-mini\n",
            "🔄 Updating topic representations with OpenAI...\n"
          ]
        },
        {
          "name": "stderr",
          "output_type": "stream",
          "text": [
            "100%|██████████| 4/4 [00:10<00:00,  2.75s/it]"
          ]
        },
        {
          "name": "stdout",
          "output_type": "stream",
          "text": [
            "✅ Topics updated successfully!\n",
            "\n",
            "📋 Top 10 Topics:\n"
          ]
        },
        {
          "name": "stderr",
          "output_type": "stream",
          "text": [
            "\n"
          ]
        },
        {
          "data": {
            "application/vnd.microsoft.datawrangler.viewer.v0+json": {
              "columns": [
                {
                  "name": "index",
                  "rawType": "int64",
                  "type": "integer"
                },
                {
                  "name": "Topic",
                  "rawType": "int64",
                  "type": "integer"
                },
                {
                  "name": "Count",
                  "rawType": "int64",
                  "type": "integer"
                },
                {
                  "name": "Name",
                  "rawType": "object",
                  "type": "string"
                },
                {
                  "name": "Representation",
                  "rawType": "object",
                  "type": "unknown"
                },
                {
                  "name": "Representative_Docs",
                  "rawType": "object",
                  "type": "unknown"
                }
              ],
              "ref": "8dc6026e-76fd-4ff6-b07e-21c88f26aba2",
              "rows": [
                [
                  "0",
                  "-1",
                  "13",
                  "-1_BYU Pathway Services and Support",
                  "['BYU Pathway Services and Support']",
                  "['What career services are available to students?', 'Are there study groups available for students?', 'How do I reset my password for online access?']"
                ],
                [
                  "1",
                  "0",
                  "17",
                  "0_Financial Aid and Payment Plans",
                  "['Financial Aid and Payment Plans']",
                  "['What are the graduation requirements for my program?', 'What documents do I need for financial aid applications?', 'How can I apply for financial aid for my courses?']"
                ],
                [
                  "2",
                  "1",
                  "10",
                  "1_English Connect Registration and Information",
                  "['English Connect Registration and Information']",
                  "['What materials do I need for English Connect classes?', 'How do I register for English Connect classes?', 'How do I register for English Connect 1?']"
                ],
                [
                  "3",
                  "2",
                  "10",
                  "2_Technical Issues in Online Classes",
                  "['Technical Issues in Online Classes']",
                  "['What technical requirements do I need for online classes?', \"My computer won't connect to the learning platform\", 'My internet connection is too slow for online learning']"
                ]
              ],
              "shape": {
                "columns": 5,
                "rows": 4
              }
            },
            "text/html": [
              "<div>\n",
              "<style scoped>\n",
              "    .dataframe tbody tr th:only-of-type {\n",
              "        vertical-align: middle;\n",
              "    }\n",
              "\n",
              "    .dataframe tbody tr th {\n",
              "        vertical-align: top;\n",
              "    }\n",
              "\n",
              "    .dataframe thead th {\n",
              "        text-align: right;\n",
              "    }\n",
              "</style>\n",
              "<table border=\"1\" class=\"dataframe\">\n",
              "  <thead>\n",
              "    <tr style=\"text-align: right;\">\n",
              "      <th></th>\n",
              "      <th>Topic</th>\n",
              "      <th>Count</th>\n",
              "      <th>Name</th>\n",
              "      <th>Representation</th>\n",
              "      <th>Representative_Docs</th>\n",
              "    </tr>\n",
              "  </thead>\n",
              "  <tbody>\n",
              "    <tr>\n",
              "      <th>0</th>\n",
              "      <td>-1</td>\n",
              "      <td>13</td>\n",
              "      <td>-1_BYU Pathway Services and Support</td>\n",
              "      <td>[BYU Pathway Services and Support]</td>\n",
              "      <td>[What career services are available to student...</td>\n",
              "    </tr>\n",
              "    <tr>\n",
              "      <th>1</th>\n",
              "      <td>0</td>\n",
              "      <td>17</td>\n",
              "      <td>0_Financial Aid and Payment Plans</td>\n",
              "      <td>[Financial Aid and Payment Plans]</td>\n",
              "      <td>[What are the graduation requirements for my p...</td>\n",
              "    </tr>\n",
              "    <tr>\n",
              "      <th>2</th>\n",
              "      <td>1</td>\n",
              "      <td>10</td>\n",
              "      <td>1_English Connect Registration and Information</td>\n",
              "      <td>[English Connect Registration and Information]</td>\n",
              "      <td>[What materials do I need for English Connect ...</td>\n",
              "    </tr>\n",
              "    <tr>\n",
              "      <th>3</th>\n",
              "      <td>2</td>\n",
              "      <td>10</td>\n",
              "      <td>2_Technical Issues in Online Classes</td>\n",
              "      <td>[Technical Issues in Online Classes]</td>\n",
              "      <td>[What technical requirements do I need for onl...</td>\n",
              "    </tr>\n",
              "  </tbody>\n",
              "</table>\n",
              "</div>"
            ],
            "text/plain": [
              "   Topic  Count                                            Name  \\\n",
              "0     -1     13             -1_BYU Pathway Services and Support   \n",
              "1      0     17               0_Financial Aid and Payment Plans   \n",
              "2      1     10  1_English Connect Registration and Information   \n",
              "3      2     10            2_Technical Issues in Online Classes   \n",
              "\n",
              "                                   Representation  \\\n",
              "0              [BYU Pathway Services and Support]   \n",
              "1               [Financial Aid and Payment Plans]   \n",
              "2  [English Connect Registration and Information]   \n",
              "3            [Technical Issues in Online Classes]   \n",
              "\n",
              "                                 Representative_Docs  \n",
              "0  [What career services are available to student...  \n",
              "1  [What are the graduation requirements for my p...  \n",
              "2  [What materials do I need for English Connect ...  \n",
              "3  [What technical requirements do I need for onl...  "
            ]
          },
          "metadata": {},
          "output_type": "display_data"
        },
        {
          "name": "stdout",
          "output_type": "stream",
          "text": [
            "\n",
            "📊 Total topics found: 4\n",
            "\n",
            "🔍 Sample topic assignments:\n",
            "   Q: How do I register for English Connect classes?...\n",
            "   → Topic 1: 0_Financial Aid and Payment Plans\n",
            "\n",
            "   Q: How can I apply for financial aid for my courses?...\n",
            "   → Topic 0: -1_BYU Pathway Services and Support\n",
            "\n",
            "   Q: What technical requirements do I need for online classes?...\n",
            "   → Topic 2: 1_English Connect Registration and Information\n",
            "\n",
            "   Q: Can I transfer credits from other institutions?...\n",
            "   → Topic 0: -1_BYU Pathway Services and Support\n",
            "\n",
            "   Q: Can I transfer credits from other institutions?...\n",
            "   → Topic 0: -1_BYU Pathway Services and Support\n",
            "\n",
            "   Q: What support is available for students with disabilities?...\n",
            "   → Topic 0: -1_BYU Pathway Services and Support\n",
            "\n",
            "   Q: How do I contact my academic advisor?...\n",
            "   → Topic 0: -1_BYU Pathway Services and Support\n",
            "\n",
            "   Q: What are the costs associated with the program?...\n",
            "   → Topic 0: -1_BYU Pathway Services and Support\n",
            "\n",
            "   Q: What support is available for students with disabilities?...\n",
            "   → Topic 0: -1_BYU Pathway Services and Support\n",
            "\n",
            "   Q: How do I contact my academic advisor?...\n",
            "   → Topic 0: -1_BYU Pathway Services and Support\n",
            "\n",
            "   Q: What are the costs associated with the program?...\n",
            "   → Topic 0: -1_BYU Pathway Services and Support\n",
            "\n"
          ]
        }
      ],
      "source": [
        "from bertopic.representation import OpenAI\n",
        "\n",
        "# Check if we have a fitted topic model\n",
        "if 'topic_model' not in locals():\n",
        "    print(\"❌ Topic model not found. Please run the BERTopic fitting cell above first.\")\n",
        "else:\n",
        "    print(\"🔄 Using OpenAI to generate better topic labels...\")\n",
        "    \n",
        "    # Enhanced prompt for educational context\n",
        "    prompt = \"\"\"\n",
        "    I have a topic that contains the following questions:\n",
        "    [DOCUMENTS]\n",
        "    \n",
        "    The topic is described by the following keywords: [KEYWORDS]\n",
        "    \n",
        "    Based on the questions above, create a short, clear topic label that describes what people are asking about.\n",
        "    Focus on the main subject or concern in the questions.\n",
        "    \n",
        "    Format your response as:\n",
        "    topic: <short descriptive label>\n",
        "    \"\"\"\n",
        "    \n",
        "    # Get the chat model from environment or use default\n",
        "    chat_model = os.getenv('OPENAI_CHAT_MODEL', 'gpt-4o-mini')  # Fixed typo: was gpt_4o-mini\n",
        "    print(f\"Using model: {chat_model}\")\n",
        "    \n",
        "    try:\n",
        "        representation_model = OpenAI(\n",
        "            client,\n",
        "            model=chat_model,\n",
        "            exponential_backoff=True,\n",
        "            chat=True,\n",
        "            prompt=prompt,\n",
        "            delay_in_seconds=2  # Add delay to respect rate limits\n",
        "        )\n",
        "        \n",
        "        print(\"🔄 Updating topic representations with OpenAI...\")\n",
        "        topic_model.update_topics(questions, representation_model=representation_model)\n",
        "        \n",
        "        # Display updated topic information\n",
        "        topic_info = topic_model.get_topic_info().head(10)\n",
        "        print(\"✅ Topics updated successfully!\")\n",
        "        print(\"\\n📋 Top 10 Topics:\")\n",
        "        display(topic_info)\n",
        "        \n",
        "        # Save topic info for analysis\n",
        "        print(f\"\\n📊 Total topics found: {len(topic_model.get_topic_info())}\")\n",
        "        \n",
        "        # Show some examples of topic assignments\n",
        "        print(f\"\\n🔍 Sample topic assignments:\")\n",
        "        for i in range(min(10, len(questions))):\n",
        "            topic_id = topic_model.get_document_info(questions)['Topic'].iloc[i]\n",
        "            if topic_id != -1:  # Skip noise\n",
        "                topic_name = topic_model.get_topic_info().iloc[topic_id]['Name']\n",
        "                print(f\"   Q: {questions[i][:80]}...\")\n",
        "                print(f\"   → Topic {topic_id}: {topic_name}\")\n",
        "                print()\n",
        "            \n",
        "    except Exception as e:\n",
        "        print(f\"❌ Error updating topics with OpenAI: {e}\")\n",
        "        print(\"Continuing with default keyword-based topic names...\")\n",
        "        topic_info = topic_model.get_topic_info().head(10)\n",
        "        print(\"\\n📋 Topics with keyword-based names:\")\n",
        "        display(topic_info)"
      ]
    },
    {
      "cell_type": "markdown",
      "metadata": {
        "id": "bqELYYerV-Db"
      },
      "source": [
        "## Visualizations"
      ]
    },
    {
      "cell_type": "code",
      "execution_count": 12,
      "metadata": {
        "colab": {
          "base_uri": "https://localhost:8080/",
          "height": 1000
        },
        "id": "OHffkZXpWBz7",
        "outputId": "93e419b5-68ce-49f8-82bc-470a2b89679a"
      },
      "outputs": [
        {
          "data": {
            "application/vnd.plotly.v1+json": {
              "config": {
                "plotlyServerURL": "https://plot.ly"
              },
              "data": [
                {
                  "hoverinfo": "text",
                  "hovertext": [
                    "When does the next semester start for PathwayConnect?",
                    "Can I work while enrolled in PathwayConnect?",
                    "How do I download course materials?",
                    "What career services are available to students?",
                    "What is the difference between PathwayConnect and degree programs?",
                    "What are the requirements to join BYU Pathway Connect?",
                    "How do I access my student portal account?",
                    "Are there study groups available for students?",
                    "How do I withdraw from a class if needed?",
                    "Are there conversation practice opportunities available?",
                    "How can I provide feedback about my courses or instructors?",
                    "How do I reset my password for online access?",
                    "How can I get help with writing assignments?",
                    null
                  ],
                  "marker": {
                    "color": "#CFD8DC",
                    "opacity": 0.5,
                    "size": 5
                  },
                  "mode": "markers+text",
                  "name": "other",
                  "showlegend": false,
                  "type": "scattergl",
                  "x": {
                    "bdata": "3wRkQcWVXkEd8jlBo3VVQV0KY0EqXl9B4yQ3QWPWUEGGvElB0fI/QW4gQkHfVDNB+YdIQf6eTEE=",
                    "dtype": "f4"
                  },
                  "y": {
                    "bdata": "7rw1QRYNMEHH9CVB8m0pQRi5M0EgPDhBY5sWQfFBLkEEpRlBH1A7QeWeHkGWURhBLxgvQRbsKUE=",
                    "dtype": "f4"
                  }
                },
                {
                  "hoverinfo": "text",
                  "hovertext": [
                    "What are the costs associated with the program?",
                    "How is financial aid distributed throughout the semester?",
                    "How do I obtain official transcripts?",
                    "When are financial aid deadlines?",
                    "How do I apply for the Pell Grant?",
                    "Can international students enroll in these programs?",
                    "What happens if I can't afford my tuition payment?",
                    "How do I contact my academic advisor?",
                    "Can I transfer credits from other institutions?",
                    "Can I get a refund if I need to withdraw?",
                    "What payment plans are available for students?",
                    "What are the graduation requirements for my program?",
                    "How can I apply for financial aid for my courses?",
                    "What documents do I need for financial aid applications?",
                    "How do I pay for my tuition and fees?",
                    "Are there scholarships specifically for PathwayConnect students?",
                    "What support is available for students with disabilities?"
                  ],
                  "marker": {
                    "opacity": 0.5,
                    "size": 5
                  },
                  "mode": "markers+text",
                  "name": "0_Financial Aid and Payment Plans",
                  "text": [
                    "",
                    "",
                    "",
                    "",
                    "",
                    "",
                    "",
                    "",
                    "",
                    "",
                    "",
                    "",
                    "",
                    "",
                    "",
                    "",
                    ""
                  ],
                  "textfont": {
                    "size": 12
                  },
                  "type": "scattergl",
                  "x": {
                    "bdata": "wABfQYrFWUEPbEhBvt5VQVnXTEEhqlxBrfhXQfeiQUFxBFVBY7hSQWpxWkE1V2FB6w5RQWoTVEHMk1JBuXZdQcXvUEE=",
                    "dtype": "f4"
                  },
                  "y": {
                    "bdata": "ysAdQXGdDEEJ1g9Bm3oIQbuJC0G0CCRBdWISQQr3FUFGKR5By3sZQTirGUGwJSNBchkNQU8JCEHHtRNBBZw3QVeoJ0E=",
                    "dtype": "f4"
                  }
                },
                {
                  "hoverinfo": "text",
                  "hovertext": [
                    "How do I join virtual English Connect sessions?",
                    "What materials do I need for English Connect classes?",
                    "How do I know which English Connect level is right for me?",
                    "What levels of English Connect are available?",
                    "How do I register for English Connect classes?",
                    "Can I retake English Connect if needed?",
                    "How do I register for English Connect 1?",
                    "Are English Connect certificates recognized by employers?",
                    "How can I improve my English speaking skills?",
                    "What do I need to know about English Connect 2?"
                  ],
                  "marker": {
                    "opacity": 0.5,
                    "size": 5
                  },
                  "mode": "markers+text",
                  "name": "1_English Connect Registration and Information",
                  "text": [
                    "",
                    "",
                    "",
                    "",
                    "",
                    "",
                    "",
                    "",
                    "",
                    ""
                  ],
                  "textfont": {
                    "size": 12
                  },
                  "type": "scattergl",
                  "x": {
                    "bdata": "kKkuQcvSLkFEMDZBtyowQUBCK0GyWzJB5pA1QYRNMkE4oTtBxfcyQQ==",
                    "dtype": "f4"
                  },
                  "y": {
                    "bdata": "Kog1QZUMPkFUHUNBl95CQbfKPEHPSjtBjmk3QUoBRUFgyT1BmgI/QQ==",
                    "dtype": "f4"
                  }
                },
                {
                  "hoverinfo": "text",
                  "hovertext": [
                    "My internet connection is too slow for online learning",
                    "What technical requirements do I need for online classes?",
                    "My computer won't connect to the learning platform",
                    "The website keeps logging me out automatically",
                    "I'm having trouble accessing my email account",
                    "The video lectures are not playing properly",
                    "I need help installing required software",
                    "I can't submit my assignment through the portal",
                    "How do I join a Zoom meeting for my class?",
                    "My microphone isn't working during virtual classes"
                  ],
                  "marker": {
                    "opacity": 0.5,
                    "size": 5
                  },
                  "mode": "markers+text",
                  "name": "2_Technical Issues in Online Classes",
                  "text": [
                    "",
                    "",
                    "",
                    "",
                    "",
                    "",
                    "",
                    "",
                    "",
                    ""
                  ],
                  "textfont": {
                    "size": 12
                  },
                  "type": "scattergl",
                  "x": {
                    "bdata": "+KgpQWgJMUHVIStBz28pQaK/L0GbdidBhsQvQa87MEH8iTNB6lIoQQ==",
                    "dtype": "f4"
                  },
                  "y": {
                    "bdata": "xuooQVqAK0FrHSJBM00YQWO4FkElbiVB6UImQZcPHUEDySVBj9AqQQ==",
                    "dtype": "f4"
                  }
                }
              ],
              "layout": {
                "annotations": [
                  {
                    "showarrow": false,
                    "text": "D1",
                    "x": 8.896488189697266,
                    "y": 10.693334579467773,
                    "yshift": 10
                  },
                  {
                    "showarrow": false,
                    "text": "D2",
                    "x": 12.642678260803223,
                    "xshift": 10,
                    "y": 14.159736633300781
                  }
                ],
                "height": 750,
                "shapes": [
                  {
                    "line": {
                      "color": "#CFD8DC",
                      "width": 2
                    },
                    "type": "line",
                    "x0": 12.642678260803223,
                    "x1": 12.642678260803223,
                    "y0": 7.226931571960449,
                    "y1": 14.159736633300781
                  },
                  {
                    "line": {
                      "color": "#9E9E9E",
                      "width": 2
                    },
                    "type": "line",
                    "x0": 8.896488189697266,
                    "x1": 16.38886833190918,
                    "y0": 10.693334579467773,
                    "y1": 10.693334579467773
                  }
                ],
                "template": {
                  "data": {
                    "bar": [
                      {
                        "error_x": {
                          "color": "rgb(36,36,36)"
                        },
                        "error_y": {
                          "color": "rgb(36,36,36)"
                        },
                        "marker": {
                          "line": {
                            "color": "white",
                            "width": 0.5
                          },
                          "pattern": {
                            "fillmode": "overlay",
                            "size": 10,
                            "solidity": 0.2
                          }
                        },
                        "type": "bar"
                      }
                    ],
                    "barpolar": [
                      {
                        "marker": {
                          "line": {
                            "color": "white",
                            "width": 0.5
                          },
                          "pattern": {
                            "fillmode": "overlay",
                            "size": 10,
                            "solidity": 0.2
                          }
                        },
                        "type": "barpolar"
                      }
                    ],
                    "carpet": [
                      {
                        "aaxis": {
                          "endlinecolor": "rgb(36,36,36)",
                          "gridcolor": "white",
                          "linecolor": "white",
                          "minorgridcolor": "white",
                          "startlinecolor": "rgb(36,36,36)"
                        },
                        "baxis": {
                          "endlinecolor": "rgb(36,36,36)",
                          "gridcolor": "white",
                          "linecolor": "white",
                          "minorgridcolor": "white",
                          "startlinecolor": "rgb(36,36,36)"
                        },
                        "type": "carpet"
                      }
                    ],
                    "choropleth": [
                      {
                        "colorbar": {
                          "outlinewidth": 1,
                          "tickcolor": "rgb(36,36,36)",
                          "ticks": "outside"
                        },
                        "type": "choropleth"
                      }
                    ],
                    "contour": [
                      {
                        "colorbar": {
                          "outlinewidth": 1,
                          "tickcolor": "rgb(36,36,36)",
                          "ticks": "outside"
                        },
                        "colorscale": [
                          [
                            0,
                            "#440154"
                          ],
                          [
                            0.1111111111111111,
                            "#482878"
                          ],
                          [
                            0.2222222222222222,
                            "#3e4989"
                          ],
                          [
                            0.3333333333333333,
                            "#31688e"
                          ],
                          [
                            0.4444444444444444,
                            "#26828e"
                          ],
                          [
                            0.5555555555555556,
                            "#1f9e89"
                          ],
                          [
                            0.6666666666666666,
                            "#35b779"
                          ],
                          [
                            0.7777777777777778,
                            "#6ece58"
                          ],
                          [
                            0.8888888888888888,
                            "#b5de2b"
                          ],
                          [
                            1,
                            "#fde725"
                          ]
                        ],
                        "type": "contour"
                      }
                    ],
                    "contourcarpet": [
                      {
                        "colorbar": {
                          "outlinewidth": 1,
                          "tickcolor": "rgb(36,36,36)",
                          "ticks": "outside"
                        },
                        "type": "contourcarpet"
                      }
                    ],
                    "heatmap": [
                      {
                        "colorbar": {
                          "outlinewidth": 1,
                          "tickcolor": "rgb(36,36,36)",
                          "ticks": "outside"
                        },
                        "colorscale": [
                          [
                            0,
                            "#440154"
                          ],
                          [
                            0.1111111111111111,
                            "#482878"
                          ],
                          [
                            0.2222222222222222,
                            "#3e4989"
                          ],
                          [
                            0.3333333333333333,
                            "#31688e"
                          ],
                          [
                            0.4444444444444444,
                            "#26828e"
                          ],
                          [
                            0.5555555555555556,
                            "#1f9e89"
                          ],
                          [
                            0.6666666666666666,
                            "#35b779"
                          ],
                          [
                            0.7777777777777778,
                            "#6ece58"
                          ],
                          [
                            0.8888888888888888,
                            "#b5de2b"
                          ],
                          [
                            1,
                            "#fde725"
                          ]
                        ],
                        "type": "heatmap"
                      }
                    ],
                    "histogram": [
                      {
                        "marker": {
                          "line": {
                            "color": "white",
                            "width": 0.6
                          }
                        },
                        "type": "histogram"
                      }
                    ],
                    "histogram2d": [
                      {
                        "colorbar": {
                          "outlinewidth": 1,
                          "tickcolor": "rgb(36,36,36)",
                          "ticks": "outside"
                        },
                        "colorscale": [
                          [
                            0,
                            "#440154"
                          ],
                          [
                            0.1111111111111111,
                            "#482878"
                          ],
                          [
                            0.2222222222222222,
                            "#3e4989"
                          ],
                          [
                            0.3333333333333333,
                            "#31688e"
                          ],
                          [
                            0.4444444444444444,
                            "#26828e"
                          ],
                          [
                            0.5555555555555556,
                            "#1f9e89"
                          ],
                          [
                            0.6666666666666666,
                            "#35b779"
                          ],
                          [
                            0.7777777777777778,
                            "#6ece58"
                          ],
                          [
                            0.8888888888888888,
                            "#b5de2b"
                          ],
                          [
                            1,
                            "#fde725"
                          ]
                        ],
                        "type": "histogram2d"
                      }
                    ],
                    "histogram2dcontour": [
                      {
                        "colorbar": {
                          "outlinewidth": 1,
                          "tickcolor": "rgb(36,36,36)",
                          "ticks": "outside"
                        },
                        "colorscale": [
                          [
                            0,
                            "#440154"
                          ],
                          [
                            0.1111111111111111,
                            "#482878"
                          ],
                          [
                            0.2222222222222222,
                            "#3e4989"
                          ],
                          [
                            0.3333333333333333,
                            "#31688e"
                          ],
                          [
                            0.4444444444444444,
                            "#26828e"
                          ],
                          [
                            0.5555555555555556,
                            "#1f9e89"
                          ],
                          [
                            0.6666666666666666,
                            "#35b779"
                          ],
                          [
                            0.7777777777777778,
                            "#6ece58"
                          ],
                          [
                            0.8888888888888888,
                            "#b5de2b"
                          ],
                          [
                            1,
                            "#fde725"
                          ]
                        ],
                        "type": "histogram2dcontour"
                      }
                    ],
                    "mesh3d": [
                      {
                        "colorbar": {
                          "outlinewidth": 1,
                          "tickcolor": "rgb(36,36,36)",
                          "ticks": "outside"
                        },
                        "type": "mesh3d"
                      }
                    ],
                    "parcoords": [
                      {
                        "line": {
                          "colorbar": {
                            "outlinewidth": 1,
                            "tickcolor": "rgb(36,36,36)",
                            "ticks": "outside"
                          }
                        },
                        "type": "parcoords"
                      }
                    ],
                    "pie": [
                      {
                        "automargin": true,
                        "type": "pie"
                      }
                    ],
                    "scatter": [
                      {
                        "fillpattern": {
                          "fillmode": "overlay",
                          "size": 10,
                          "solidity": 0.2
                        },
                        "type": "scatter"
                      }
                    ],
                    "scatter3d": [
                      {
                        "line": {
                          "colorbar": {
                            "outlinewidth": 1,
                            "tickcolor": "rgb(36,36,36)",
                            "ticks": "outside"
                          }
                        },
                        "marker": {
                          "colorbar": {
                            "outlinewidth": 1,
                            "tickcolor": "rgb(36,36,36)",
                            "ticks": "outside"
                          }
                        },
                        "type": "scatter3d"
                      }
                    ],
                    "scattercarpet": [
                      {
                        "marker": {
                          "colorbar": {
                            "outlinewidth": 1,
                            "tickcolor": "rgb(36,36,36)",
                            "ticks": "outside"
                          }
                        },
                        "type": "scattercarpet"
                      }
                    ],
                    "scattergeo": [
                      {
                        "marker": {
                          "colorbar": {
                            "outlinewidth": 1,
                            "tickcolor": "rgb(36,36,36)",
                            "ticks": "outside"
                          }
                        },
                        "type": "scattergeo"
                      }
                    ],
                    "scattergl": [
                      {
                        "marker": {
                          "colorbar": {
                            "outlinewidth": 1,
                            "tickcolor": "rgb(36,36,36)",
                            "ticks": "outside"
                          }
                        },
                        "type": "scattergl"
                      }
                    ],
                    "scattermap": [
                      {
                        "marker": {
                          "colorbar": {
                            "outlinewidth": 1,
                            "tickcolor": "rgb(36,36,36)",
                            "ticks": "outside"
                          }
                        },
                        "type": "scattermap"
                      }
                    ],
                    "scattermapbox": [
                      {
                        "marker": {
                          "colorbar": {
                            "outlinewidth": 1,
                            "tickcolor": "rgb(36,36,36)",
                            "ticks": "outside"
                          }
                        },
                        "type": "scattermapbox"
                      }
                    ],
                    "scatterpolar": [
                      {
                        "marker": {
                          "colorbar": {
                            "outlinewidth": 1,
                            "tickcolor": "rgb(36,36,36)",
                            "ticks": "outside"
                          }
                        },
                        "type": "scatterpolar"
                      }
                    ],
                    "scatterpolargl": [
                      {
                        "marker": {
                          "colorbar": {
                            "outlinewidth": 1,
                            "tickcolor": "rgb(36,36,36)",
                            "ticks": "outside"
                          }
                        },
                        "type": "scatterpolargl"
                      }
                    ],
                    "scatterternary": [
                      {
                        "marker": {
                          "colorbar": {
                            "outlinewidth": 1,
                            "tickcolor": "rgb(36,36,36)",
                            "ticks": "outside"
                          }
                        },
                        "type": "scatterternary"
                      }
                    ],
                    "surface": [
                      {
                        "colorbar": {
                          "outlinewidth": 1,
                          "tickcolor": "rgb(36,36,36)",
                          "ticks": "outside"
                        },
                        "colorscale": [
                          [
                            0,
                            "#440154"
                          ],
                          [
                            0.1111111111111111,
                            "#482878"
                          ],
                          [
                            0.2222222222222222,
                            "#3e4989"
                          ],
                          [
                            0.3333333333333333,
                            "#31688e"
                          ],
                          [
                            0.4444444444444444,
                            "#26828e"
                          ],
                          [
                            0.5555555555555556,
                            "#1f9e89"
                          ],
                          [
                            0.6666666666666666,
                            "#35b779"
                          ],
                          [
                            0.7777777777777778,
                            "#6ece58"
                          ],
                          [
                            0.8888888888888888,
                            "#b5de2b"
                          ],
                          [
                            1,
                            "#fde725"
                          ]
                        ],
                        "type": "surface"
                      }
                    ],
                    "table": [
                      {
                        "cells": {
                          "fill": {
                            "color": "rgb(237,237,237)"
                          },
                          "line": {
                            "color": "white"
                          }
                        },
                        "header": {
                          "fill": {
                            "color": "rgb(217,217,217)"
                          },
                          "line": {
                            "color": "white"
                          }
                        },
                        "type": "table"
                      }
                    ]
                  },
                  "layout": {
                    "annotationdefaults": {
                      "arrowhead": 0,
                      "arrowwidth": 1
                    },
                    "autotypenumbers": "strict",
                    "coloraxis": {
                      "colorbar": {
                        "outlinewidth": 1,
                        "tickcolor": "rgb(36,36,36)",
                        "ticks": "outside"
                      }
                    },
                    "colorscale": {
                      "diverging": [
                        [
                          0,
                          "rgb(103,0,31)"
                        ],
                        [
                          0.1,
                          "rgb(178,24,43)"
                        ],
                        [
                          0.2,
                          "rgb(214,96,77)"
                        ],
                        [
                          0.3,
                          "rgb(244,165,130)"
                        ],
                        [
                          0.4,
                          "rgb(253,219,199)"
                        ],
                        [
                          0.5,
                          "rgb(247,247,247)"
                        ],
                        [
                          0.6,
                          "rgb(209,229,240)"
                        ],
                        [
                          0.7,
                          "rgb(146,197,222)"
                        ],
                        [
                          0.8,
                          "rgb(67,147,195)"
                        ],
                        [
                          0.9,
                          "rgb(33,102,172)"
                        ],
                        [
                          1,
                          "rgb(5,48,97)"
                        ]
                      ],
                      "sequential": [
                        [
                          0,
                          "#440154"
                        ],
                        [
                          0.1111111111111111,
                          "#482878"
                        ],
                        [
                          0.2222222222222222,
                          "#3e4989"
                        ],
                        [
                          0.3333333333333333,
                          "#31688e"
                        ],
                        [
                          0.4444444444444444,
                          "#26828e"
                        ],
                        [
                          0.5555555555555556,
                          "#1f9e89"
                        ],
                        [
                          0.6666666666666666,
                          "#35b779"
                        ],
                        [
                          0.7777777777777778,
                          "#6ece58"
                        ],
                        [
                          0.8888888888888888,
                          "#b5de2b"
                        ],
                        [
                          1,
                          "#fde725"
                        ]
                      ],
                      "sequentialminus": [
                        [
                          0,
                          "#440154"
                        ],
                        [
                          0.1111111111111111,
                          "#482878"
                        ],
                        [
                          0.2222222222222222,
                          "#3e4989"
                        ],
                        [
                          0.3333333333333333,
                          "#31688e"
                        ],
                        [
                          0.4444444444444444,
                          "#26828e"
                        ],
                        [
                          0.5555555555555556,
                          "#1f9e89"
                        ],
                        [
                          0.6666666666666666,
                          "#35b779"
                        ],
                        [
                          0.7777777777777778,
                          "#6ece58"
                        ],
                        [
                          0.8888888888888888,
                          "#b5de2b"
                        ],
                        [
                          1,
                          "#fde725"
                        ]
                      ]
                    },
                    "colorway": [
                      "#1F77B4",
                      "#FF7F0E",
                      "#2CA02C",
                      "#D62728",
                      "#9467BD",
                      "#8C564B",
                      "#E377C2",
                      "#7F7F7F",
                      "#BCBD22",
                      "#17BECF"
                    ],
                    "font": {
                      "color": "rgb(36,36,36)"
                    },
                    "geo": {
                      "bgcolor": "white",
                      "lakecolor": "white",
                      "landcolor": "white",
                      "showlakes": true,
                      "showland": true,
                      "subunitcolor": "white"
                    },
                    "hoverlabel": {
                      "align": "left"
                    },
                    "hovermode": "closest",
                    "mapbox": {
                      "style": "light"
                    },
                    "paper_bgcolor": "white",
                    "plot_bgcolor": "white",
                    "polar": {
                      "angularaxis": {
                        "gridcolor": "rgb(232,232,232)",
                        "linecolor": "rgb(36,36,36)",
                        "showgrid": false,
                        "showline": true,
                        "ticks": "outside"
                      },
                      "bgcolor": "white",
                      "radialaxis": {
                        "gridcolor": "rgb(232,232,232)",
                        "linecolor": "rgb(36,36,36)",
                        "showgrid": false,
                        "showline": true,
                        "ticks": "outside"
                      }
                    },
                    "scene": {
                      "xaxis": {
                        "backgroundcolor": "white",
                        "gridcolor": "rgb(232,232,232)",
                        "gridwidth": 2,
                        "linecolor": "rgb(36,36,36)",
                        "showbackground": true,
                        "showgrid": false,
                        "showline": true,
                        "ticks": "outside",
                        "zeroline": false,
                        "zerolinecolor": "rgb(36,36,36)"
                      },
                      "yaxis": {
                        "backgroundcolor": "white",
                        "gridcolor": "rgb(232,232,232)",
                        "gridwidth": 2,
                        "linecolor": "rgb(36,36,36)",
                        "showbackground": true,
                        "showgrid": false,
                        "showline": true,
                        "ticks": "outside",
                        "zeroline": false,
                        "zerolinecolor": "rgb(36,36,36)"
                      },
                      "zaxis": {
                        "backgroundcolor": "white",
                        "gridcolor": "rgb(232,232,232)",
                        "gridwidth": 2,
                        "linecolor": "rgb(36,36,36)",
                        "showbackground": true,
                        "showgrid": false,
                        "showline": true,
                        "ticks": "outside",
                        "zeroline": false,
                        "zerolinecolor": "rgb(36,36,36)"
                      }
                    },
                    "shapedefaults": {
                      "fillcolor": "black",
                      "line": {
                        "width": 0
                      },
                      "opacity": 0.3
                    },
                    "ternary": {
                      "aaxis": {
                        "gridcolor": "rgb(232,232,232)",
                        "linecolor": "rgb(36,36,36)",
                        "showgrid": false,
                        "showline": true,
                        "ticks": "outside"
                      },
                      "baxis": {
                        "gridcolor": "rgb(232,232,232)",
                        "linecolor": "rgb(36,36,36)",
                        "showgrid": false,
                        "showline": true,
                        "ticks": "outside"
                      },
                      "bgcolor": "white",
                      "caxis": {
                        "gridcolor": "rgb(232,232,232)",
                        "linecolor": "rgb(36,36,36)",
                        "showgrid": false,
                        "showline": true,
                        "ticks": "outside"
                      }
                    },
                    "title": {
                      "x": 0.05
                    },
                    "xaxis": {
                      "automargin": true,
                      "gridcolor": "rgb(232,232,232)",
                      "linecolor": "rgb(36,36,36)",
                      "showgrid": false,
                      "showline": true,
                      "ticks": "outside",
                      "title": {
                        "standoff": 15
                      },
                      "zeroline": false,
                      "zerolinecolor": "rgb(36,36,36)"
                    },
                    "yaxis": {
                      "automargin": true,
                      "gridcolor": "rgb(232,232,232)",
                      "linecolor": "rgb(36,36,36)",
                      "showgrid": false,
                      "showline": true,
                      "ticks": "outside",
                      "title": {
                        "standoff": 15
                      },
                      "zeroline": false,
                      "zerolinecolor": "rgb(36,36,36)"
                    }
                  }
                },
                "title": {
                  "font": {
                    "color": "Black",
                    "size": 22
                  },
                  "text": "<b>Documents and Topics</b>",
                  "x": 0.5,
                  "xanchor": "center",
                  "yanchor": "top"
                },
                "width": 1200,
                "xaxis": {
                  "visible": false
                },
                "yaxis": {
                  "visible": false
                }
              }
            }
          },
          "metadata": {},
          "output_type": "display_data"
        },
        {
          "data": {
            "application/vnd.plotly.v1+json": {
              "config": {
                "plotlyServerURL": "https://plot.ly"
              },
              "data": [
                {
                  "hoverinfo": "text",
                  "marker": {
                    "color": "rgb(61,153,112)"
                  },
                  "mode": "lines",
                  "type": "scatter",
                  "x": {
                    "bdata": "AAAAAAAAAAAAySfSUqTnPwDJJ9JSpOc/AAAAAAAAAAA=",
                    "dtype": "f8"
                  },
                  "xaxis": "x",
                  "y": {
                    "bdata": "AAAAAAAALsAAAAAAAAAuwAAAAAAAADnAAAAAAAAAOcA=",
                    "dtype": "f8"
                  },
                  "yaxis": "y"
                },
                {
                  "hoverinfo": "text",
                  "marker": {
                    "color": "rgb(61,153,112)"
                  },
                  "mode": "lines",
                  "type": "scatter",
                  "x": {
                    "bdata": "AAAAAAAAAAC8Lc8q3CbpP7wtzyrcJuk/AMkn0lKk5z8=",
                    "dtype": "f8"
                  },
                  "xaxis": "x",
                  "y": {
                    "bdata": "AAAAAAAAFMAAAAAAAAAUwAAAAAAAADTAAAAAAAAANMA=",
                    "dtype": "f8"
                  },
                  "yaxis": "y"
                }
              ],
              "layout": {
                "autosize": false,
                "height": 245,
                "hoverlabel": {
                  "bgcolor": "white",
                  "font": {
                    "family": "Rockwell",
                    "size": 16
                  }
                },
                "hovermode": "closest",
                "plot_bgcolor": "#ECEFF1",
                "showlegend": false,
                "template": {
                  "data": {
                    "bar": [
                      {
                        "error_x": {
                          "color": "#2a3f5f"
                        },
                        "error_y": {
                          "color": "#2a3f5f"
                        },
                        "marker": {
                          "line": {
                            "color": "white",
                            "width": 0.5
                          },
                          "pattern": {
                            "fillmode": "overlay",
                            "size": 10,
                            "solidity": 0.2
                          }
                        },
                        "type": "bar"
                      }
                    ],
                    "barpolar": [
                      {
                        "marker": {
                          "line": {
                            "color": "white",
                            "width": 0.5
                          },
                          "pattern": {
                            "fillmode": "overlay",
                            "size": 10,
                            "solidity": 0.2
                          }
                        },
                        "type": "barpolar"
                      }
                    ],
                    "carpet": [
                      {
                        "aaxis": {
                          "endlinecolor": "#2a3f5f",
                          "gridcolor": "#C8D4E3",
                          "linecolor": "#C8D4E3",
                          "minorgridcolor": "#C8D4E3",
                          "startlinecolor": "#2a3f5f"
                        },
                        "baxis": {
                          "endlinecolor": "#2a3f5f",
                          "gridcolor": "#C8D4E3",
                          "linecolor": "#C8D4E3",
                          "minorgridcolor": "#C8D4E3",
                          "startlinecolor": "#2a3f5f"
                        },
                        "type": "carpet"
                      }
                    ],
                    "choropleth": [
                      {
                        "colorbar": {
                          "outlinewidth": 0,
                          "ticks": ""
                        },
                        "type": "choropleth"
                      }
                    ],
                    "contour": [
                      {
                        "colorbar": {
                          "outlinewidth": 0,
                          "ticks": ""
                        },
                        "colorscale": [
                          [
                            0,
                            "#0d0887"
                          ],
                          [
                            0.1111111111111111,
                            "#46039f"
                          ],
                          [
                            0.2222222222222222,
                            "#7201a8"
                          ],
                          [
                            0.3333333333333333,
                            "#9c179e"
                          ],
                          [
                            0.4444444444444444,
                            "#bd3786"
                          ],
                          [
                            0.5555555555555556,
                            "#d8576b"
                          ],
                          [
                            0.6666666666666666,
                            "#ed7953"
                          ],
                          [
                            0.7777777777777778,
                            "#fb9f3a"
                          ],
                          [
                            0.8888888888888888,
                            "#fdca26"
                          ],
                          [
                            1,
                            "#f0f921"
                          ]
                        ],
                        "type": "contour"
                      }
                    ],
                    "contourcarpet": [
                      {
                        "colorbar": {
                          "outlinewidth": 0,
                          "ticks": ""
                        },
                        "type": "contourcarpet"
                      }
                    ],
                    "heatmap": [
                      {
                        "colorbar": {
                          "outlinewidth": 0,
                          "ticks": ""
                        },
                        "colorscale": [
                          [
                            0,
                            "#0d0887"
                          ],
                          [
                            0.1111111111111111,
                            "#46039f"
                          ],
                          [
                            0.2222222222222222,
                            "#7201a8"
                          ],
                          [
                            0.3333333333333333,
                            "#9c179e"
                          ],
                          [
                            0.4444444444444444,
                            "#bd3786"
                          ],
                          [
                            0.5555555555555556,
                            "#d8576b"
                          ],
                          [
                            0.6666666666666666,
                            "#ed7953"
                          ],
                          [
                            0.7777777777777778,
                            "#fb9f3a"
                          ],
                          [
                            0.8888888888888888,
                            "#fdca26"
                          ],
                          [
                            1,
                            "#f0f921"
                          ]
                        ],
                        "type": "heatmap"
                      }
                    ],
                    "histogram": [
                      {
                        "marker": {
                          "pattern": {
                            "fillmode": "overlay",
                            "size": 10,
                            "solidity": 0.2
                          }
                        },
                        "type": "histogram"
                      }
                    ],
                    "histogram2d": [
                      {
                        "colorbar": {
                          "outlinewidth": 0,
                          "ticks": ""
                        },
                        "colorscale": [
                          [
                            0,
                            "#0d0887"
                          ],
                          [
                            0.1111111111111111,
                            "#46039f"
                          ],
                          [
                            0.2222222222222222,
                            "#7201a8"
                          ],
                          [
                            0.3333333333333333,
                            "#9c179e"
                          ],
                          [
                            0.4444444444444444,
                            "#bd3786"
                          ],
                          [
                            0.5555555555555556,
                            "#d8576b"
                          ],
                          [
                            0.6666666666666666,
                            "#ed7953"
                          ],
                          [
                            0.7777777777777778,
                            "#fb9f3a"
                          ],
                          [
                            0.8888888888888888,
                            "#fdca26"
                          ],
                          [
                            1,
                            "#f0f921"
                          ]
                        ],
                        "type": "histogram2d"
                      }
                    ],
                    "histogram2dcontour": [
                      {
                        "colorbar": {
                          "outlinewidth": 0,
                          "ticks": ""
                        },
                        "colorscale": [
                          [
                            0,
                            "#0d0887"
                          ],
                          [
                            0.1111111111111111,
                            "#46039f"
                          ],
                          [
                            0.2222222222222222,
                            "#7201a8"
                          ],
                          [
                            0.3333333333333333,
                            "#9c179e"
                          ],
                          [
                            0.4444444444444444,
                            "#bd3786"
                          ],
                          [
                            0.5555555555555556,
                            "#d8576b"
                          ],
                          [
                            0.6666666666666666,
                            "#ed7953"
                          ],
                          [
                            0.7777777777777778,
                            "#fb9f3a"
                          ],
                          [
                            0.8888888888888888,
                            "#fdca26"
                          ],
                          [
                            1,
                            "#f0f921"
                          ]
                        ],
                        "type": "histogram2dcontour"
                      }
                    ],
                    "mesh3d": [
                      {
                        "colorbar": {
                          "outlinewidth": 0,
                          "ticks": ""
                        },
                        "type": "mesh3d"
                      }
                    ],
                    "parcoords": [
                      {
                        "line": {
                          "colorbar": {
                            "outlinewidth": 0,
                            "ticks": ""
                          }
                        },
                        "type": "parcoords"
                      }
                    ],
                    "pie": [
                      {
                        "automargin": true,
                        "type": "pie"
                      }
                    ],
                    "scatter": [
                      {
                        "fillpattern": {
                          "fillmode": "overlay",
                          "size": 10,
                          "solidity": 0.2
                        },
                        "type": "scatter"
                      }
                    ],
                    "scatter3d": [
                      {
                        "line": {
                          "colorbar": {
                            "outlinewidth": 0,
                            "ticks": ""
                          }
                        },
                        "marker": {
                          "colorbar": {
                            "outlinewidth": 0,
                            "ticks": ""
                          }
                        },
                        "type": "scatter3d"
                      }
                    ],
                    "scattercarpet": [
                      {
                        "marker": {
                          "colorbar": {
                            "outlinewidth": 0,
                            "ticks": ""
                          }
                        },
                        "type": "scattercarpet"
                      }
                    ],
                    "scattergeo": [
                      {
                        "marker": {
                          "colorbar": {
                            "outlinewidth": 0,
                            "ticks": ""
                          }
                        },
                        "type": "scattergeo"
                      }
                    ],
                    "scattergl": [
                      {
                        "marker": {
                          "colorbar": {
                            "outlinewidth": 0,
                            "ticks": ""
                          }
                        },
                        "type": "scattergl"
                      }
                    ],
                    "scattermap": [
                      {
                        "marker": {
                          "colorbar": {
                            "outlinewidth": 0,
                            "ticks": ""
                          }
                        },
                        "type": "scattermap"
                      }
                    ],
                    "scattermapbox": [
                      {
                        "marker": {
                          "colorbar": {
                            "outlinewidth": 0,
                            "ticks": ""
                          }
                        },
                        "type": "scattermapbox"
                      }
                    ],
                    "scatterpolar": [
                      {
                        "marker": {
                          "colorbar": {
                            "outlinewidth": 0,
                            "ticks": ""
                          }
                        },
                        "type": "scatterpolar"
                      }
                    ],
                    "scatterpolargl": [
                      {
                        "marker": {
                          "colorbar": {
                            "outlinewidth": 0,
                            "ticks": ""
                          }
                        },
                        "type": "scatterpolargl"
                      }
                    ],
                    "scatterternary": [
                      {
                        "marker": {
                          "colorbar": {
                            "outlinewidth": 0,
                            "ticks": ""
                          }
                        },
                        "type": "scatterternary"
                      }
                    ],
                    "surface": [
                      {
                        "colorbar": {
                          "outlinewidth": 0,
                          "ticks": ""
                        },
                        "colorscale": [
                          [
                            0,
                            "#0d0887"
                          ],
                          [
                            0.1111111111111111,
                            "#46039f"
                          ],
                          [
                            0.2222222222222222,
                            "#7201a8"
                          ],
                          [
                            0.3333333333333333,
                            "#9c179e"
                          ],
                          [
                            0.4444444444444444,
                            "#bd3786"
                          ],
                          [
                            0.5555555555555556,
                            "#d8576b"
                          ],
                          [
                            0.6666666666666666,
                            "#ed7953"
                          ],
                          [
                            0.7777777777777778,
                            "#fb9f3a"
                          ],
                          [
                            0.8888888888888888,
                            "#fdca26"
                          ],
                          [
                            1,
                            "#f0f921"
                          ]
                        ],
                        "type": "surface"
                      }
                    ],
                    "table": [
                      {
                        "cells": {
                          "fill": {
                            "color": "#EBF0F8"
                          },
                          "line": {
                            "color": "white"
                          }
                        },
                        "header": {
                          "fill": {
                            "color": "#C8D4E3"
                          },
                          "line": {
                            "color": "white"
                          }
                        },
                        "type": "table"
                      }
                    ]
                  },
                  "layout": {
                    "annotationdefaults": {
                      "arrowcolor": "#2a3f5f",
                      "arrowhead": 0,
                      "arrowwidth": 1
                    },
                    "autotypenumbers": "strict",
                    "coloraxis": {
                      "colorbar": {
                        "outlinewidth": 0,
                        "ticks": ""
                      }
                    },
                    "colorscale": {
                      "diverging": [
                        [
                          0,
                          "#8e0152"
                        ],
                        [
                          0.1,
                          "#c51b7d"
                        ],
                        [
                          0.2,
                          "#de77ae"
                        ],
                        [
                          0.3,
                          "#f1b6da"
                        ],
                        [
                          0.4,
                          "#fde0ef"
                        ],
                        [
                          0.5,
                          "#f7f7f7"
                        ],
                        [
                          0.6,
                          "#e6f5d0"
                        ],
                        [
                          0.7,
                          "#b8e186"
                        ],
                        [
                          0.8,
                          "#7fbc41"
                        ],
                        [
                          0.9,
                          "#4d9221"
                        ],
                        [
                          1,
                          "#276419"
                        ]
                      ],
                      "sequential": [
                        [
                          0,
                          "#0d0887"
                        ],
                        [
                          0.1111111111111111,
                          "#46039f"
                        ],
                        [
                          0.2222222222222222,
                          "#7201a8"
                        ],
                        [
                          0.3333333333333333,
                          "#9c179e"
                        ],
                        [
                          0.4444444444444444,
                          "#bd3786"
                        ],
                        [
                          0.5555555555555556,
                          "#d8576b"
                        ],
                        [
                          0.6666666666666666,
                          "#ed7953"
                        ],
                        [
                          0.7777777777777778,
                          "#fb9f3a"
                        ],
                        [
                          0.8888888888888888,
                          "#fdca26"
                        ],
                        [
                          1,
                          "#f0f921"
                        ]
                      ],
                      "sequentialminus": [
                        [
                          0,
                          "#0d0887"
                        ],
                        [
                          0.1111111111111111,
                          "#46039f"
                        ],
                        [
                          0.2222222222222222,
                          "#7201a8"
                        ],
                        [
                          0.3333333333333333,
                          "#9c179e"
                        ],
                        [
                          0.4444444444444444,
                          "#bd3786"
                        ],
                        [
                          0.5555555555555556,
                          "#d8576b"
                        ],
                        [
                          0.6666666666666666,
                          "#ed7953"
                        ],
                        [
                          0.7777777777777778,
                          "#fb9f3a"
                        ],
                        [
                          0.8888888888888888,
                          "#fdca26"
                        ],
                        [
                          1,
                          "#f0f921"
                        ]
                      ]
                    },
                    "colorway": [
                      "#636efa",
                      "#EF553B",
                      "#00cc96",
                      "#ab63fa",
                      "#FFA15A",
                      "#19d3f3",
                      "#FF6692",
                      "#B6E880",
                      "#FF97FF",
                      "#FECB52"
                    ],
                    "font": {
                      "color": "#2a3f5f"
                    },
                    "geo": {
                      "bgcolor": "white",
                      "lakecolor": "white",
                      "landcolor": "white",
                      "showlakes": true,
                      "showland": true,
                      "subunitcolor": "#C8D4E3"
                    },
                    "hoverlabel": {
                      "align": "left"
                    },
                    "hovermode": "closest",
                    "mapbox": {
                      "style": "light"
                    },
                    "paper_bgcolor": "white",
                    "plot_bgcolor": "white",
                    "polar": {
                      "angularaxis": {
                        "gridcolor": "#EBF0F8",
                        "linecolor": "#EBF0F8",
                        "ticks": ""
                      },
                      "bgcolor": "white",
                      "radialaxis": {
                        "gridcolor": "#EBF0F8",
                        "linecolor": "#EBF0F8",
                        "ticks": ""
                      }
                    },
                    "scene": {
                      "xaxis": {
                        "backgroundcolor": "white",
                        "gridcolor": "#DFE8F3",
                        "gridwidth": 2,
                        "linecolor": "#EBF0F8",
                        "showbackground": true,
                        "ticks": "",
                        "zerolinecolor": "#EBF0F8"
                      },
                      "yaxis": {
                        "backgroundcolor": "white",
                        "gridcolor": "#DFE8F3",
                        "gridwidth": 2,
                        "linecolor": "#EBF0F8",
                        "showbackground": true,
                        "ticks": "",
                        "zerolinecolor": "#EBF0F8"
                      },
                      "zaxis": {
                        "backgroundcolor": "white",
                        "gridcolor": "#DFE8F3",
                        "gridwidth": 2,
                        "linecolor": "#EBF0F8",
                        "showbackground": true,
                        "ticks": "",
                        "zerolinecolor": "#EBF0F8"
                      }
                    },
                    "shapedefaults": {
                      "line": {
                        "color": "#2a3f5f"
                      }
                    },
                    "ternary": {
                      "aaxis": {
                        "gridcolor": "#DFE8F3",
                        "linecolor": "#A2B1C6",
                        "ticks": ""
                      },
                      "baxis": {
                        "gridcolor": "#DFE8F3",
                        "linecolor": "#A2B1C6",
                        "ticks": ""
                      },
                      "bgcolor": "white",
                      "caxis": {
                        "gridcolor": "#DFE8F3",
                        "linecolor": "#A2B1C6",
                        "ticks": ""
                      }
                    },
                    "title": {
                      "x": 0.05
                    },
                    "xaxis": {
                      "automargin": true,
                      "gridcolor": "#EBF0F8",
                      "linecolor": "#EBF0F8",
                      "ticks": "",
                      "title": {
                        "standoff": 15
                      },
                      "zerolinecolor": "#EBF0F8",
                      "zerolinewidth": 2
                    },
                    "yaxis": {
                      "automargin": true,
                      "gridcolor": "#EBF0F8",
                      "linecolor": "#EBF0F8",
                      "ticks": "",
                      "title": {
                        "standoff": 15
                      },
                      "zerolinecolor": "#EBF0F8",
                      "zerolinewidth": 2
                    }
                  }
                },
                "title": {
                  "font": {
                    "color": "Black",
                    "size": 22
                  },
                  "text": "<b>Hierarchical Clustering</b>",
                  "x": 0.5,
                  "xanchor": "center",
                  "yanchor": "top"
                },
                "width": 1000,
                "xaxis": {
                  "mirror": "allticks",
                  "rangemode": "tozero",
                  "showgrid": false,
                  "showline": true,
                  "showticklabels": true,
                  "ticks": "outside",
                  "type": "linear",
                  "zeroline": false
                },
                "yaxis": {
                  "mirror": "allticks",
                  "range": [
                    -30,
                    0
                  ],
                  "rangemode": "tozero",
                  "showgrid": false,
                  "showline": true,
                  "showticklabels": true,
                  "tickmode": "array",
                  "ticks": "outside",
                  "ticktext": [
                    "2_Technical Issues in Onlin...",
                    "0_Financial Aid and Payment...",
                    "1_English Connect Registrat..."
                  ],
                  "tickvals": [
                    -5,
                    -15,
                    -25
                  ],
                  "type": "linear",
                  "zeroline": false
                }
              }
            }
          },
          "metadata": {},
          "output_type": "display_data"
        }
      ],
      "source": [
        "# Interactive doc visualization\n",
        "fig = topic_model.visualize_documents(\n",
        "    questions,\n",
        "    reduced_embeddings=reduced_2d,\n",
        "    width=1200,\n",
        "    hide_annotations=True\n",
        ")\n",
        "fig.show()\n",
        "\n",
        "# Keyword barchart\n",
        "topic_model.visualize_barchart()\n",
        "\n",
        "# Heatmap of topics\n",
        "topic_model.visualize_heatmap\n",
        "\n",
        "# Hierarchical topic structure\n",
        "topic_model.visualize_hierarchy()"
      ]
    },
    {
      "cell_type": "markdown",
      "metadata": {},
      "source": [
        "## Export Results to CSV"
      ]
    },
    {
      "cell_type": "code",
      "execution_count": 13,
      "metadata": {},
      "outputs": [
        {
          "name": "stdout",
          "output_type": "stream",
          "text": [
            "📊 Preparing results for export...\n",
            "✅ Results exported to: results/pathway_questions_analysis_20250826_0102.csv\n",
            "📋 Total questions analyzed: 50\n",
            "📊 Topics found: 3\n",
            "\n",
            "📈 Questions per topic:\n",
            "   Topic 0: -1_BYU Pathway Services and Support (17 questions)\n",
            "   Topic -1: Uncategorized (13 questions)\n",
            "   Topic 1: 0_Financial Aid and Payment Plans (10 questions)\n",
            "   Topic 2: 1_English Connect Registration and Information (10 questions)\n",
            "\n",
            "📄 Sample of exported data:\n"
          ]
        },
        {
          "data": {
            "application/vnd.microsoft.datawrangler.viewer.v0+json": {
              "columns": [
                {
                  "name": "index",
                  "rawType": "int64",
                  "type": "integer"
                },
                {
                  "name": "Question",
                  "rawType": "object",
                  "type": "string"
                },
                {
                  "name": "Topic_ID",
                  "rawType": "int64",
                  "type": "integer"
                },
                {
                  "name": "Topic_Name",
                  "rawType": "object",
                  "type": "string"
                },
                {
                  "name": "Probability",
                  "rawType": "float64",
                  "type": "float"
                },
                {
                  "name": "Cluster",
                  "rawType": "int64",
                  "type": "integer"
                },
                {
                  "name": "Representative_Doc",
                  "rawType": "bool",
                  "type": "boolean"
                }
              ],
              "ref": "9494e2d2-cb81-4eea-bebc-d99e643d34b7",
              "rows": [
                [
                  "0",
                  "How do I register for English Connect classes?",
                  "1",
                  "0_Financial Aid and Payment Plans",
                  "1.0",
                  "1",
                  "True"
                ],
                [
                  "1",
                  "What are the requirements to join BYU Pathway Connect?",
                  "-1",
                  "Uncategorized",
                  "0.0",
                  "-1",
                  "False"
                ],
                [
                  "2",
                  "How can I apply for financial aid for my courses?",
                  "0",
                  "-1_BYU Pathway Services and Support",
                  "1.0",
                  "0",
                  "True"
                ],
                [
                  "3",
                  "When does the next semester start for PathwayConnect?",
                  "-1",
                  "Uncategorized",
                  "0.0",
                  "-1",
                  "False"
                ],
                [
                  "4",
                  "What technical requirements do I need for online classes?",
                  "2",
                  "1_English Connect Registration and Information",
                  "0.8946321661400113",
                  "2",
                  "True"
                ]
              ],
              "shape": {
                "columns": 6,
                "rows": 5
              }
            },
            "text/html": [
              "<div>\n",
              "<style scoped>\n",
              "    .dataframe tbody tr th:only-of-type {\n",
              "        vertical-align: middle;\n",
              "    }\n",
              "\n",
              "    .dataframe tbody tr th {\n",
              "        vertical-align: top;\n",
              "    }\n",
              "\n",
              "    .dataframe thead th {\n",
              "        text-align: right;\n",
              "    }\n",
              "</style>\n",
              "<table border=\"1\" class=\"dataframe\">\n",
              "  <thead>\n",
              "    <tr style=\"text-align: right;\">\n",
              "      <th></th>\n",
              "      <th>Question</th>\n",
              "      <th>Topic_ID</th>\n",
              "      <th>Topic_Name</th>\n",
              "      <th>Probability</th>\n",
              "      <th>Cluster</th>\n",
              "      <th>Representative_Doc</th>\n",
              "    </tr>\n",
              "  </thead>\n",
              "  <tbody>\n",
              "    <tr>\n",
              "      <th>0</th>\n",
              "      <td>How do I register for English Connect classes?</td>\n",
              "      <td>1</td>\n",
              "      <td>0_Financial Aid and Payment Plans</td>\n",
              "      <td>1.000000</td>\n",
              "      <td>1</td>\n",
              "      <td>True</td>\n",
              "    </tr>\n",
              "    <tr>\n",
              "      <th>1</th>\n",
              "      <td>What are the requirements to join BYU Pathway ...</td>\n",
              "      <td>-1</td>\n",
              "      <td>Uncategorized</td>\n",
              "      <td>0.000000</td>\n",
              "      <td>-1</td>\n",
              "      <td>False</td>\n",
              "    </tr>\n",
              "    <tr>\n",
              "      <th>2</th>\n",
              "      <td>How can I apply for financial aid for my courses?</td>\n",
              "      <td>0</td>\n",
              "      <td>-1_BYU Pathway Services and Support</td>\n",
              "      <td>1.000000</td>\n",
              "      <td>0</td>\n",
              "      <td>True</td>\n",
              "    </tr>\n",
              "    <tr>\n",
              "      <th>3</th>\n",
              "      <td>When does the next semester start for PathwayC...</td>\n",
              "      <td>-1</td>\n",
              "      <td>Uncategorized</td>\n",
              "      <td>0.000000</td>\n",
              "      <td>-1</td>\n",
              "      <td>False</td>\n",
              "    </tr>\n",
              "    <tr>\n",
              "      <th>4</th>\n",
              "      <td>What technical requirements do I need for onli...</td>\n",
              "      <td>2</td>\n",
              "      <td>1_English Connect Registration and Information</td>\n",
              "      <td>0.894632</td>\n",
              "      <td>2</td>\n",
              "      <td>True</td>\n",
              "    </tr>\n",
              "  </tbody>\n",
              "</table>\n",
              "</div>"
            ],
            "text/plain": [
              "                                            Question  Topic_ID  \\\n",
              "0     How do I register for English Connect classes?         1   \n",
              "1  What are the requirements to join BYU Pathway ...        -1   \n",
              "2  How can I apply for financial aid for my courses?         0   \n",
              "3  When does the next semester start for PathwayC...        -1   \n",
              "4  What technical requirements do I need for onli...         2   \n",
              "\n",
              "                                       Topic_Name  Probability  Cluster  \\\n",
              "0               0_Financial Aid and Payment Plans     1.000000        1   \n",
              "1                                   Uncategorized     0.000000       -1   \n",
              "2             -1_BYU Pathway Services and Support     1.000000        0   \n",
              "3                                   Uncategorized     0.000000       -1   \n",
              "4  1_English Connect Registration and Information     0.894632        2   \n",
              "\n",
              "   Representative_Doc  \n",
              "0                True  \n",
              "1               False  \n",
              "2                True  \n",
              "3               False  \n",
              "4                True  "
            ]
          },
          "metadata": {},
          "output_type": "display_data"
        }
      ],
      "source": [
        "# Export results for stakeholder review\n",
        "import pandas as pd\n",
        "from datetime import datetime\n",
        "\n",
        "print(\"📊 Preparing results for export...\")\n",
        "\n",
        "# Create comprehensive results dataframe\n",
        "if 'topic_model' in locals():\n",
        "    # Get document info from BERTopic\n",
        "    doc_info = topic_model.get_document_info(questions)\n",
        "    \n",
        "    # Create results dataframe with all relevant information\n",
        "    results_df = pd.DataFrame({\n",
        "        'Question': questions,\n",
        "        'Topic_ID': doc_info['Topic'].values,\n",
        "        'Topic_Name': [topic_model.get_topic_info().iloc[topic_id]['Name'] if topic_id != -1 \n",
        "                      else 'Uncategorized' for topic_id in doc_info['Topic'].values],\n",
        "        'Probability': doc_info['Probability'].values,\n",
        "        'Cluster': clusters if 'clusters' in locals() else doc_info['Topic'].values,\n",
        "        'Representative_Doc': doc_info['Representative_document'].values\n",
        "    })\n",
        "    \n",
        "    # Add timestamp\n",
        "    timestamp = datetime.now().strftime(\"%Y%m%d_%H%M\")\n",
        "    \n",
        "    # Export to CSV\n",
        "    csv_filename = f\"results/pathway_questions_analysis_{timestamp}.csv\"\n",
        "    \n",
        "    # Create results directory if it doesn't exist\n",
        "    import os\n",
        "    os.makedirs(\"results\", exist_ok=True)\n",
        "    \n",
        "    # Save the file\n",
        "    results_df.to_csv(csv_filename, index=False, encoding='utf-8')\n",
        "    \n",
        "    print(f\"✅ Results exported to: {csv_filename}\")\n",
        "    print(f\"📋 Total questions analyzed: {len(results_df)}\")\n",
        "    print(f\"📊 Topics found: {len(topic_model.get_topic_info()) - 1}\")  # Exclude -1 topic\n",
        "    \n",
        "    # Show summary by topic\n",
        "    print(f\"\\n📈 Questions per topic:\")\n",
        "    topic_summary = results_df.groupby(['Topic_ID', 'Topic_Name']).size().reset_index(name='Count')\n",
        "    topic_summary = topic_summary.sort_values('Count', ascending=False)\n",
        "    \n",
        "    for _, row in topic_summary.iterrows():\n",
        "        print(f\"   Topic {row['Topic_ID']}: {row['Topic_Name']} ({row['Count']} questions)\")\n",
        "        \n",
        "    # Display first few rows\n",
        "    print(f\"\\n📄 Sample of exported data:\")\n",
        "    display(results_df.head())\n",
        "    \n",
        "else:\n",
        "    print(\"❌ Topic model not found. Please run the BERTopic cells first.\")"
      ]
    }
  ],
  "metadata": {
    "accelerator": "GPU",
    "colab": {
      "gpuType": "T4",
      "provenance": []
    },
    "kernelspec": {
      "display_name": ".venv",
      "language": "python",
      "name": "python3"
    },
    "language_info": {
      "codemirror_mode": {
        "name": "ipython",
        "version": 3
      },
      "file_extension": ".py",
      "mimetype": "text/x-python",
      "name": "python",
      "nbconvert_exporter": "python",
      "pygments_lexer": "ipython3",
      "version": "3.12.3"
    },
    "widgets": {
      "application/vnd.jupyter.widget-state+json": {
        "144bb8f2dc67437a8fefec7be8e0cfa2": {
          "model_module": "@jupyter-widgets/controls",
          "model_module_version": "1.5.0",
          "model_name": "ProgressStyleModel",
          "state": {
            "_model_module": "@jupyter-widgets/controls",
            "_model_module_version": "1.5.0",
            "_model_name": "ProgressStyleModel",
            "_view_count": null,
            "_view_module": "@jupyter-widgets/base",
            "_view_module_version": "1.2.0",
            "_view_name": "StyleView",
            "bar_color": null,
            "description_width": ""
          }
        },
        "2232df9efa904e9aa4413e8f85b91d0f": {
          "model_module": "@jupyter-widgets/base",
          "model_module_version": "1.2.0",
          "model_name": "LayoutModel",
          "state": {
            "_model_module": "@jupyter-widgets/base",
            "_model_module_version": "1.2.0",
            "_model_name": "LayoutModel",
            "_view_count": null,
            "_view_module": "@jupyter-widgets/base",
            "_view_module_version": "1.2.0",
            "_view_name": "LayoutView",
            "align_content": null,
            "align_items": null,
            "align_self": null,
            "border": null,
            "bottom": null,
            "display": null,
            "flex": null,
            "flex_flow": null,
            "grid_area": null,
            "grid_auto_columns": null,
            "grid_auto_flow": null,
            "grid_auto_rows": null,
            "grid_column": null,
            "grid_gap": null,
            "grid_row": null,
            "grid_template_areas": null,
            "grid_template_columns": null,
            "grid_template_rows": null,
            "height": null,
            "justify_content": null,
            "justify_items": null,
            "left": null,
            "margin": null,
            "max_height": null,
            "max_width": null,
            "min_height": null,
            "min_width": null,
            "object_fit": null,
            "object_position": null,
            "order": null,
            "overflow": null,
            "overflow_x": null,
            "overflow_y": null,
            "padding": null,
            "right": null,
            "top": null,
            "visibility": null,
            "width": null
          }
        },
        "2dc425285fff422aaec0b4d5c795cf0e": {
          "model_module": "@jupyter-widgets/base",
          "model_module_version": "1.2.0",
          "model_name": "LayoutModel",
          "state": {
            "_model_module": "@jupyter-widgets/base",
            "_model_module_version": "1.2.0",
            "_model_name": "LayoutModel",
            "_view_count": null,
            "_view_module": "@jupyter-widgets/base",
            "_view_module_version": "1.2.0",
            "_view_name": "LayoutView",
            "align_content": null,
            "align_items": null,
            "align_self": null,
            "border": null,
            "bottom": null,
            "display": null,
            "flex": null,
            "flex_flow": null,
            "grid_area": null,
            "grid_auto_columns": null,
            "grid_auto_flow": null,
            "grid_auto_rows": null,
            "grid_column": null,
            "grid_gap": null,
            "grid_row": null,
            "grid_template_areas": null,
            "grid_template_columns": null,
            "grid_template_rows": null,
            "height": null,
            "justify_content": null,
            "justify_items": null,
            "left": null,
            "margin": null,
            "max_height": null,
            "max_width": null,
            "min_height": null,
            "min_width": null,
            "object_fit": null,
            "object_position": null,
            "order": null,
            "overflow": null,
            "overflow_x": null,
            "overflow_y": null,
            "padding": null,
            "right": null,
            "top": null,
            "visibility": null,
            "width": null
          }
        },
        "3c5d4f934dc743268850807bcf79a67c": {
          "model_module": "@jupyter-widgets/controls",
          "model_module_version": "1.5.0",
          "model_name": "DescriptionStyleModel",
          "state": {
            "_model_module": "@jupyter-widgets/controls",
            "_model_module_version": "1.5.0",
            "_model_name": "DescriptionStyleModel",
            "_view_count": null,
            "_view_module": "@jupyter-widgets/base",
            "_view_module_version": "1.2.0",
            "_view_name": "StyleView",
            "description_width": ""
          }
        },
        "3eae41f8878b47939c2fe66e839713d6": {
          "model_module": "@jupyter-widgets/controls",
          "model_module_version": "1.5.0",
          "model_name": "HTMLModel",
          "state": {
            "_dom_classes": [],
            "_model_module": "@jupyter-widgets/controls",
            "_model_module_version": "1.5.0",
            "_model_name": "HTMLModel",
            "_view_count": null,
            "_view_module": "@jupyter-widgets/controls",
            "_view_module_version": "1.5.0",
            "_view_name": "HTMLView",
            "description": "",
            "description_tooltip": null,
            "layout": "IPY_MODEL_9ffe61aadc694f26918b3a8d508c697e",
            "placeholder": "​",
            "style": "IPY_MODEL_3c5d4f934dc743268850807bcf79a67c",
            "value": " 3/3 [00:13&lt;00:00,  4.56s/it]"
          }
        },
        "41377e74e1d24c519a85c9d666ccd953": {
          "model_module": "@jupyter-widgets/base",
          "model_module_version": "1.2.0",
          "model_name": "LayoutModel",
          "state": {
            "_model_module": "@jupyter-widgets/base",
            "_model_module_version": "1.2.0",
            "_model_name": "LayoutModel",
            "_view_count": null,
            "_view_module": "@jupyter-widgets/base",
            "_view_module_version": "1.2.0",
            "_view_name": "LayoutView",
            "align_content": null,
            "align_items": null,
            "align_self": null,
            "border": null,
            "bottom": null,
            "display": null,
            "flex": null,
            "flex_flow": null,
            "grid_area": null,
            "grid_auto_columns": null,
            "grid_auto_flow": null,
            "grid_auto_rows": null,
            "grid_column": null,
            "grid_gap": null,
            "grid_row": null,
            "grid_template_areas": null,
            "grid_template_columns": null,
            "grid_template_rows": null,
            "height": null,
            "justify_content": null,
            "justify_items": null,
            "left": null,
            "margin": null,
            "max_height": null,
            "max_width": null,
            "min_height": null,
            "min_width": null,
            "object_fit": null,
            "object_position": null,
            "order": null,
            "overflow": null,
            "overflow_x": null,
            "overflow_y": null,
            "padding": null,
            "right": null,
            "top": null,
            "visibility": null,
            "width": null
          }
        },
        "96e3ba81800d40d8b27602e1ee81a918": {
          "model_module": "@jupyter-widgets/controls",
          "model_module_version": "1.5.0",
          "model_name": "DescriptionStyleModel",
          "state": {
            "_model_module": "@jupyter-widgets/controls",
            "_model_module_version": "1.5.0",
            "_model_name": "DescriptionStyleModel",
            "_view_count": null,
            "_view_module": "@jupyter-widgets/base",
            "_view_module_version": "1.2.0",
            "_view_name": "StyleView",
            "description_width": ""
          }
        },
        "9ffe61aadc694f26918b3a8d508c697e": {
          "model_module": "@jupyter-widgets/base",
          "model_module_version": "1.2.0",
          "model_name": "LayoutModel",
          "state": {
            "_model_module": "@jupyter-widgets/base",
            "_model_module_version": "1.2.0",
            "_model_name": "LayoutModel",
            "_view_count": null,
            "_view_module": "@jupyter-widgets/base",
            "_view_module_version": "1.2.0",
            "_view_name": "LayoutView",
            "align_content": null,
            "align_items": null,
            "align_self": null,
            "border": null,
            "bottom": null,
            "display": null,
            "flex": null,
            "flex_flow": null,
            "grid_area": null,
            "grid_auto_columns": null,
            "grid_auto_flow": null,
            "grid_auto_rows": null,
            "grid_column": null,
            "grid_gap": null,
            "grid_row": null,
            "grid_template_areas": null,
            "grid_template_columns": null,
            "grid_template_rows": null,
            "height": null,
            "justify_content": null,
            "justify_items": null,
            "left": null,
            "margin": null,
            "max_height": null,
            "max_width": null,
            "min_height": null,
            "min_width": null,
            "object_fit": null,
            "object_position": null,
            "order": null,
            "overflow": null,
            "overflow_x": null,
            "overflow_y": null,
            "padding": null,
            "right": null,
            "top": null,
            "visibility": null,
            "width": null
          }
        },
        "bc38cc68f3014a7992456f7eb58efe51": {
          "model_module": "@jupyter-widgets/controls",
          "model_module_version": "1.5.0",
          "model_name": "HTMLModel",
          "state": {
            "_dom_classes": [],
            "_model_module": "@jupyter-widgets/controls",
            "_model_module_version": "1.5.0",
            "_model_name": "HTMLModel",
            "_view_count": null,
            "_view_module": "@jupyter-widgets/controls",
            "_view_module_version": "1.5.0",
            "_view_name": "HTMLView",
            "description": "",
            "description_tooltip": null,
            "layout": "IPY_MODEL_2dc425285fff422aaec0b4d5c795cf0e",
            "placeholder": "​",
            "style": "IPY_MODEL_96e3ba81800d40d8b27602e1ee81a918",
            "value": "100%"
          }
        },
        "ea51691d93a94974804f0918e43cc785": {
          "model_module": "@jupyter-widgets/controls",
          "model_module_version": "1.5.0",
          "model_name": "HBoxModel",
          "state": {
            "_dom_classes": [],
            "_model_module": "@jupyter-widgets/controls",
            "_model_module_version": "1.5.0",
            "_model_name": "HBoxModel",
            "_view_count": null,
            "_view_module": "@jupyter-widgets/controls",
            "_view_module_version": "1.5.0",
            "_view_name": "HBoxView",
            "box_style": "",
            "children": [
              "IPY_MODEL_bc38cc68f3014a7992456f7eb58efe51",
              "IPY_MODEL_f8a9de3ea3604b92868d17fe0604989e",
              "IPY_MODEL_3eae41f8878b47939c2fe66e839713d6"
            ],
            "layout": "IPY_MODEL_2232df9efa904e9aa4413e8f85b91d0f"
          }
        },
        "f8a9de3ea3604b92868d17fe0604989e": {
          "model_module": "@jupyter-widgets/controls",
          "model_module_version": "1.5.0",
          "model_name": "FloatProgressModel",
          "state": {
            "_dom_classes": [],
            "_model_module": "@jupyter-widgets/controls",
            "_model_module_version": "1.5.0",
            "_model_name": "FloatProgressModel",
            "_view_count": null,
            "_view_module": "@jupyter-widgets/controls",
            "_view_module_version": "1.5.0",
            "_view_name": "ProgressView",
            "bar_style": "success",
            "description": "",
            "description_tooltip": null,
            "layout": "IPY_MODEL_41377e74e1d24c519a85c9d666ccd953",
            "max": 3,
            "min": 0,
            "orientation": "horizontal",
            "style": "IPY_MODEL_144bb8f2dc67437a8fefec7be8e0cfa2",
            "value": 3
          }
        }
      }
    }
  },
  "nbformat": 4,
  "nbformat_minor": 0
}
